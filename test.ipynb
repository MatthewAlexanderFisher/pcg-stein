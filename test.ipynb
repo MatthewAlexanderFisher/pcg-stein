{
 "cells": [
  {
   "cell_type": "markdown",
   "id": "29323b80",
   "metadata": {},
   "source": [
    "# Experiments"
   ]
  },
  {
   "cell_type": "code",
   "execution_count": 1,
   "id": "8fdcdb07",
   "metadata": {},
   "outputs": [],
   "source": [
    "import jax, jax.numpy as jnp\n",
    "import numpy as np\n",
    "import matplotlib.pyplot as plt\n",
    "import dill\n",
    "import tqdm\n",
    "\n",
    "from pcg_stein.distribution import BayesianLogisticRegression\n",
    "from pcg_stein.kernel import Matern52Kernel, Matern72Kernel, IMQKernel, GaussianKernel\n",
    "from pcg_stein.pcg import pcg\n",
    "from pcg_stein.precon import Nystrom, NystromDiagonal, NystromRandom, RandomisedSVD, FITC, BlockJacobi\n",
    "from pcg_stein.util import PCG_Experiment\n",
    "\n",
    "jax.config.update(\"jax_enable_x64\", True) # double precision\n"
   ]
  },
  {
   "cell_type": "code",
   "execution_count": 2,
   "id": "312f7f0a",
   "metadata": {},
   "outputs": [],
   "source": [
    "kernel = Matern52Kernel()\n",
    "\n",
    "\n",
    "# dist = BayesianLogisticRegression.from_synthetic(jax.random.key(0), 1000, true_beta=jnp.array([1., -1, 2, 4]))\n",
    "# X = dist.sample(jax.random.key(1), 5)\n",
    "# Sx = dist.score(X)\n"
   ]
  },
  {
   "cell_type": "code",
   "execution_count": 3,
   "id": "17d1d368",
   "metadata": {},
   "outputs": [],
   "source": [
    "from pcg_stein.pcg import pcg, pcg_batch"
   ]
  },
  {
   "cell_type": "code",
   "execution_count": 4,
   "id": "a3e698f2",
   "metadata": {},
   "outputs": [],
   "source": [
    "X = jax.random.normal(jax.random.key(0), (100, 7))\n",
    "Sx = -X\n",
    "\n",
    "K = kernel.stein_matrix(X, X, Sx, Sx, lengthscale=1.)"
   ]
  },
  {
   "cell_type": "code",
   "execution_count": 5,
   "id": "38dc6dfb",
   "metadata": {},
   "outputs": [],
   "source": [
    "precon = BlockJacobi()\n",
    "\n",
    "precon_mats = [precon(None, K, block_size=i + 1) for i in range(3)]\n",
    "precon_batch = jnp.stack(precon_mats)\n"
   ]
  },
  {
   "cell_type": "code",
   "execution_count": 14,
   "id": "471ef8f4",
   "metadata": {},
   "outputs": [
    {
     "data": {
      "text/plain": [
       "Array([0.4309011, 0.4309011, 0.4309011], dtype=float64)"
      ]
     },
     "execution_count": 14,
     "metadata": {},
     "output_type": "execute_result"
    }
   ],
   "source": [
    "pcg_batch(K, jnp.ones(100), precon_batch)[-1]"
   ]
  },
  {
   "cell_type": "code",
   "execution_count": 15,
   "id": "c2c8da8a",
   "metadata": {},
   "outputs": [
    {
     "data": {
      "text/plain": [
       "(Array([0.05025452, 0.0485326 , 0.08813574, 0.05650098, 0.04502066,\n",
       "        0.04143131, 0.05833093, 0.03981602, 0.05556404, 0.04251923,\n",
       "        0.0476227 , 0.03769065, 0.04534264, 0.06402057, 0.04630251,\n",
       "        0.09201863, 0.05836723, 0.04671601, 0.04259995, 0.05120191,\n",
       "        0.07921967, 0.03024542, 0.04780749, 0.05507771, 0.05884192,\n",
       "        0.06136157, 0.04225565, 0.06605393, 0.03949813, 0.05528566,\n",
       "        0.03684743, 0.04672696, 0.06064522, 0.06900349, 0.04690839,\n",
       "        0.07606371, 0.03908475, 0.05509464, 0.0408857 , 0.03934513,\n",
       "        0.07837764, 0.04594796, 0.07927124, 0.04885628, 0.06882295,\n",
       "        0.03877238, 0.04079298, 0.07620579, 0.08330991, 0.05384777,\n",
       "        0.04918004, 0.04997758, 0.05235846, 0.06310649, 0.04190933,\n",
       "        0.08517859, 0.04235304, 0.08984197, 0.05613335, 0.05968467,\n",
       "        0.07672905, 0.06163324, 0.05397656, 0.05847739, 0.0570536 ,\n",
       "        0.04398306, 0.04917366, 0.05997381, 0.05262601, 0.05084137,\n",
       "        0.04935035, 0.04459715, 0.03830811, 0.04911809, 0.04709594,\n",
       "        0.08125061, 0.04215543, 0.06506046, 0.04691222, 0.06227074,\n",
       "        0.04792534, 0.04078647, 0.04375657, 0.05359784, 0.0311928 ,\n",
       "        0.05059062, 0.04724258, 0.04610863, 0.02932733, 0.0547603 ,\n",
       "        0.06456053, 0.0585178 , 0.08371607, 0.06610551, 0.03684565,\n",
       "        0.05366823, 0.03916803, 0.04820505, 0.04321443, 0.04768635],      dtype=float64),\n",
       " Array(8, dtype=int64, weak_type=True),\n",
       " Array(8.43425741e-06, dtype=float64),\n",
       " Array(0.4309011, dtype=float64))"
      ]
     },
     "execution_count": 15,
     "metadata": {},
     "output_type": "execute_result"
    }
   ],
   "source": [
    "pcg(K, jnp.ones(100), M_inv=precon_batch[0], return_history=False)"
   ]
  },
  {
   "cell_type": "code",
   "execution_count": 11,
   "id": "6a1b7294",
   "metadata": {},
   "outputs": [
    {
     "data": {
      "text/plain": [
       "Array([[5.80962348e-02, 1.12166611e-04, 4.38744951e-04, ...,\n",
       "        0.00000000e+00, 0.00000000e+00, 0.00000000e+00],\n",
       "       [1.12166611e-04, 4.43278369e-02, 2.01275921e-04, ...,\n",
       "        0.00000000e+00, 0.00000000e+00, 0.00000000e+00],\n",
       "       [4.38744951e-04, 2.01275921e-04, 6.87991681e-02, ...,\n",
       "        0.00000000e+00, 0.00000000e+00, 0.00000000e+00],\n",
       "       ...,\n",
       "       [0.00000000e+00, 0.00000000e+00, 0.00000000e+00, ...,\n",
       "        5.33725676e-02, 0.00000000e+00, 0.00000000e+00],\n",
       "       [0.00000000e+00, 0.00000000e+00, 0.00000000e+00, ...,\n",
       "        0.00000000e+00, 4.77350528e-02, 3.39975892e-05],\n",
       "       [0.00000000e+00, 0.00000000e+00, 0.00000000e+00, ...,\n",
       "        0.00000000e+00, 3.39975892e-05, 4.94699519e-02]], dtype=float64)"
      ]
     },
     "execution_count": 11,
     "metadata": {},
     "output_type": "execute_result"
    }
   ],
   "source": [
    "precon.old_call(None, K, block_size=7)"
   ]
  },
  {
   "cell_type": "code",
   "execution_count": 8,
   "id": "e23d4bc4",
   "metadata": {},
   "outputs": [
    {
     "name": "stdout",
     "output_type": "stream",
     "text": [
      "[1100.29861908 1847.94647142 1744.80253063 2273.06705475 2012.30810783]\n"
     ]
    }
   ],
   "source": [
    "b = jnp.ones(5)\n",
    "\n",
    "print(kernel.stein_matvec(b, X, Sx))"
   ]
  },
  {
   "cell_type": "code",
   "execution_count": null,
   "id": "6cddd84d",
   "metadata": {},
   "outputs": [],
   "source": [
    "cfg_path = os.path.join(\"experiments\", \"fig1_experiment\", \"experiment.yaml\")\n"
   ]
  },
  {
   "cell_type": "code",
   "execution_count": 2,
   "id": "54cffdfb",
   "metadata": {},
   "outputs": [],
   "source": [
    "import os\n",
    "import yaml\n",
    "\n",
    "from pcg_stein.registry import PRECON_REGISTRY, KERNEL_REGISTRY, DISTRIBUTION_REGISTRY\n",
    "\n",
    "# Construct the full path to your config file\n",
    "cfg_path = os.path.join(\"experiments\", \"fig1_experiment\", \"experiment.yaml\")\n",
    "\n",
    "# Load the YAML config\n",
    "with open(cfg_path, \"r\") as f:\n",
    "    exp_cfg = yaml.safe_load(f)\n",
    "\n",
    "# Static parameters\n",
    "REPLICATES           = exp_cfg[\"replicates\"]\n",
    "WCE_MUL              = exp_cfg[\"wce_mul\"]\n",
    "N_ITER_WCE_REFERENCE = exp_cfg[\"n_iter_wce_reference\"]\n",
    "MAXITER              = exp_cfg[\"maxiter\"]\n",
    "NUM_MCMC_SAMPLES     = exp_cfg[\"num_mcmc_samples\"]\n",
    "NUM_SYNTH            = exp_cfg[\"num_synth_samps\"]\n",
    "M_RANK               = exp_cfg[\"m_rank\"]\n",
    "DIST_CLS             = DISTRIBUTION_REGISTRY[exp_cfg[\"dist\"]]\n",
    "KERNEL_CLS           = KERNEL_REGISTRY[exp_cfg[\"kernel\"]]\n",
    "PRECON_NAMES         = exp_cfg[\"precons\"]\n",
    "BLOCK_SIZES          = list(map(int, exp_cfg[\"block_sizes\"])) # cast strings correctly just in case\n",
    "NUGGETS              = list(map(float, exp_cfg[\"nuggets\"]))\n",
    "LENGTHSCALES         = list(map(float, exp_cfg[\"lengthscales\"]))  \n",
    "TRUE_BETA            = jnp.array(list(map(float, exp_cfg[\"true_beta\"])))\n",
    "\n",
    "# define distribution once:\n",
    "dist = DIST_CLS.from_synthetic(jax.random.PRNGKey(exp_cfg[\"dist_synth_key\"]),\n",
    "                                NUM_SYNTH, true_beta=TRUE_BETA)\n",
    "\n",
    "jobs = []\n",
    "for rep in range(REPLICATES):\n",
    "    for ls in LENGTHSCALES:\n",
    "        for name in PRECON_NAMES:\n",
    "            pc_cls = PRECON_REGISTRY[name]\n",
    "            if name == \"BlockJacobi\":\n",
    "                for bs in BLOCK_SIZES:\n",
    "                    jobs.append({\n",
    "                        \"replicate\":    rep,\n",
    "                        \"lengthscale\":  ls,\n",
    "                        \"precon_cls\":   pc_cls,\n",
    "                        \"precon_kwargs\":{\"block_size\": bs, \"m\":M_RANK},\n",
    "                    })\n",
    "            else:\n",
    "                for ng in NUGGETS:\n",
    "                    jobs.append({\n",
    "                        \"replicate\":    rep,\n",
    "                        \"lengthscale\":  ls,\n",
    "                        \"precon_cls\":   pc_cls,\n",
    "                        \"precon_kwargs\":{\"nugget\": ng, \"m\":M_RANK},\n",
    "                    })\n"
   ]
  },
  {
   "cell_type": "code",
   "execution_count": null,
   "id": "6c195b8f",
   "metadata": {},
   "outputs": [],
   "source": []
  },
  {
   "cell_type": "code",
   "execution_count": 1,
   "id": "9385a077",
   "metadata": {},
   "outputs": [],
   "source": [
    "def run_one(\n",
    "    replicate:    int,\n",
    "    lengthscale:  float,\n",
    "    precon_cls,         \n",
    "    precon_kwargs: dict,\n",
    "    *, \n",
    "    rngs,                # dict of PRNG keys\n",
    ") -> dict:\n",
    "    \"\"\"\n",
    "    Runs a single PCG-vs-CG job.\n",
    "\n",
    "    Args:\n",
    "        replicate      : Which replicate index this is.\n",
    "        lengthscale    : Kernel lengthscale.\n",
    "        precon_cls     : Preconditioner class to instantiate.\n",
    "        precon_kwargs  : Keyword args for that preconditioner.\n",
    "        rngs           : dict with keys 'data', 'precon'.\n",
    "\n",
    "    Returns:\n",
    "        A dict of scalar results, e.g. k_iters, final_res, final_wce, plus metadata.\n",
    "    \"\"\"\n",
    "    # 1. sample MCMC data and compute scores\n",
    "    mcmc_key, precon_key = rngs[\"data\"], rngs[\"precon\"]\n",
    "    X = dist.sample(mcmc_key, NUM_MCMC_SAMPLES) # MCMC samples\n",
    "    Sx = dist.score(X) # Scores\n",
    "\n",
    "    # 2. build PCG experiment object\n",
    "    kernel = KERNEL_CLS()\n",
    "\n",
    "    # 3. Define linear system and preconditioner\n",
    "    kernel_kwargs = {'lengthscale': lengthscale}\n",
    "    K = kernel.stein_matrix(X, X, Sx, Sx, **kernel_kwargs) # K in Kx = b\n",
    "    b = jnp.ones(NUM_MCMC_SAMPLES) # b in Kx = b\n",
    "    precon_mat = precon_cls()(precon_key, K, **precon_kwargs) # preconditioner matrix\n",
    "\n",
    "    # 4. Compute reference worst-case error and tolerance\n",
    "    _, _, _, errs = pcg(K, b, maxiter=N_ITER_WCE_REFERENCE, rtol=0., atol=0., wce_tol=0.)\n",
    "    wce = errs[-1]\n",
    "    wce_tol = wce * WCE_MUL\n",
    "\n",
    "    # 5. run CG for baseline\n",
    "    cg_out = pcg(K, b, rtol=0., atol=0., wce_tol=wce_tol, maxiter=MAXITER)\n",
    "    m_cg = cg_out[1]\n",
    "\n",
    "    # 5. run PCG with the chosen preconditioner\n",
    "    pcg_out = pcg(K, b, rtol=0., atol=0., wce_tol=wce_tol, maxiter=MAXITER, M_inv=precon_mat)\n",
    "    m_pcg = pcg_out[1]\n",
    "\n",
    "    # 6. Evaluation metrics\n",
    "    gain = jnp.log(m_cg + 1) - jnp.log(m_pcg + 1)\n",
    "    diff = m_cg - m_pcg\n",
    "    \n",
    "    return {\n",
    "        \"replicate\":    replicate,\n",
    "        \"precon\":       precon_cls.name,\n",
    "        \"lengthscale\":  lengthscale,\n",
    "        **precon_kwargs,\n",
    "        \"m_cg\":         m_cg,\n",
    "        \"m_pcg\":        m_pcg,\n",
    "        \"gain\":      gain,\n",
    "        \"diff\": diff\n",
    "    }\n",
    "\n",
    "\n",
    "\n",
    "# from tqdm.auto import tqdm\n",
    "# import jax\n",
    "\n",
    "# # prime a top‐level key\n",
    "# key = jax.random.PRNGKey(0)\n",
    "\n",
    "# rows = []\n",
    "# for job in tqdm(jobs):\n",
    "#     # split out three RNGs for data / precon / pcg\n",
    "#     key, data_key, precon_key = jax.random.split(key, 3)\n",
    "#     rngs = {\"data\": data_key, \"precon\": precon_key}\n",
    "\n",
    "#     # unpack the job dict directly into run_one\n",
    "#     row = run_one(**job, rngs=rngs)\n",
    "#     rows.append(row)\n",
    "\n",
    "# # build a DataFrame and save\n",
    "# import pandas as pd\n",
    "# df = pd.DataFrame(rows)\n",
    "# # df.to_csv(\"results/fig1.csv\", index=False)\n"
   ]
  },
  {
   "cell_type": "code",
   "execution_count": 10,
   "id": "74111799",
   "metadata": {},
   "outputs": [
    {
     "data": {
      "text/plain": [
       "pcg_stein.precon.Nystrom"
      ]
     },
     "execution_count": 10,
     "metadata": {},
     "output_type": "execute_result"
    }
   ],
   "source": [
    "job['precon_cls']"
   ]
  },
  {
   "cell_type": "code",
   "execution_count": 15,
   "id": "347fe3a5",
   "metadata": {},
   "outputs": [
    {
     "data": {
      "text/plain": [
       "{'nugget': '1e-4', 'm': 50}"
      ]
     },
     "execution_count": 15,
     "metadata": {},
     "output_type": "execute_result"
    }
   ],
   "source": [
    "job['precon_kwargs']"
   ]
  },
  {
   "cell_type": "code",
   "execution_count": 13,
   "id": "4b6a165d",
   "metadata": {},
   "outputs": [],
   "source": [
    "test = job['precon_cls']()\n",
    "\n",
    "testkey = jax.random.key(1)\n",
    "mcmc_key, precon_key = jax.random.split(testkey, 2)\n",
    "X = dist.sample(mcmc_key, NUM_MCMC_SAMPLES) # MCMC samples\n",
    "Sx = dist.score(X) # Scores\n",
    "\n",
    "# 2. build PCG experiment object\n",
    "kernel = KERNEL_CLS()\n",
    "\n",
    "# 3. Define linear system and preconditioner\n",
    "kernel_kwargs = {'lengthscale': job['lengthscale']}\n",
    "K = kernel.stein_matrix(X, X, Sx, Sx, **kernel_kwargs) # K in Kx = b\n",
    "b = jnp.ones(NUM_MCMC_SAMPLES) # b in Kx = b\n",
    "# precon_mat = precon_cls()(precon_key, K, **precon_kwargs) # preconditioner matrix"
   ]
  },
  {
   "cell_type": "code",
   "execution_count": 18,
   "id": "9d8dd0e0",
   "metadata": {},
   "outputs": [
    {
     "data": {
      "text/plain": [
       "{'nugget': '1e-4', 'm': 50}"
      ]
     },
     "execution_count": 18,
     "metadata": {},
     "output_type": "execute_result"
    }
   ],
   "source": [
    "job['precon_kwargs']"
   ]
  },
  {
   "cell_type": "code",
   "execution_count": null,
   "id": "96876418",
   "metadata": {},
   "outputs": [],
   "source": [
    "precon_mat = test(precon_key, K, m=50, nugget=1e-4) #works\n",
    "\n",
    "precon_mat = test(precon_key, K, **job['precon_kwargs']) # does not!\n",
    "\n",
    "    def __call__(self, key: Array, matrix: Array, **kwargs) -> Array:\n",
    "        r\"\"\"\n",
    "        Construct the Nystrom preconditioner using the Woodbury Inverse.\n",
    "\n",
    "        Args:\n",
    "            key: Array\n",
    "                JAX random key for sampling indices, if not provided.\n",
    "            matrix: Array\n",
    "                Input matrix (shape: [n, n]).\n",
    "            m: int, required.\n",
    "                Number of columns/rows for Nystrom approximation.\n",
    "            max_cond_number: float, optional\n",
    "                Maximum allowed condition number for pseudoinverse (default 1e14).\n",
    "            indices: array or None, optional.\n",
    "                Explicit indices for Nystrom subset.\n",
    "            nugget: float, required.\n",
    "                Diagonal regulariser in Woodbury inverse.\n",
    "\n",
    "        Returns:\n",
    "            precon: (n, n) matrix.\n",
    "                Approximation to (K + nugget * I)^{-1} using the Nystrom-Woodbury formula.\n",
    "        \"\"\"\n",
    "        # ---------- kwargs & sanity checks -----------------------------\n",
    "        m = kwargs.get(\"m\")\n",
    "        nugget = kwargs.get(\"nugget\")\n",
    "        max_cond_number = kwargs.get(\"max_cond_number\", 1e14)\n",
    "        indices = kwargs.get(\"indices\", None)\n",
    "\n",
    "\n"
   ]
  },
  {
   "cell_type": "code",
   "execution_count": 19,
   "id": "ac70cbad",
   "metadata": {},
   "outputs": [
    {
     "data": {
      "text/plain": [
       "{'nugget': '1e-4', 'm': 50}"
      ]
     },
     "execution_count": 19,
     "metadata": {},
     "output_type": "execute_result"
    }
   ],
   "source": [
    "job['precon_kwargs']"
   ]
  },
  {
   "cell_type": "code",
   "execution_count": 22,
   "id": "739edafe",
   "metadata": {},
   "outputs": [
    {
     "ename": "TypeError",
     "evalue": "Only integer scalar arrays can be converted to a scalar index.",
     "output_type": "error",
     "traceback": [
      "\u001b[31m---------------------------------------------------------------------------\u001b[39m",
      "\u001b[31mTypeError\u001b[39m                                 Traceback (most recent call last)",
      "\u001b[36mCell\u001b[39m\u001b[36m \u001b[39m\u001b[32mIn[22]\u001b[39m\u001b[32m, line 1\u001b[39m\n\u001b[32m----> \u001b[39m\u001b[32m1\u001b[39m \u001b[43mtest\u001b[49m\u001b[43m(\u001b[49m\u001b[43mprecon_key\u001b[49m\u001b[43m,\u001b[49m\u001b[43m \u001b[49m\u001b[43mK\u001b[49m\u001b[43m,\u001b[49m\u001b[43m \u001b[49m\u001b[43m*\u001b[49m\u001b[43m*\u001b[49m\u001b[43mjob\u001b[49m\u001b[43m[\u001b[49m\u001b[33;43m'\u001b[39;49m\u001b[33;43mprecon_kwargs\u001b[39;49m\u001b[33;43m'\u001b[39;49m\u001b[43m]\u001b[49m\u001b[43m)\u001b[49m\n",
      "\u001b[36mFile \u001b[39m\u001b[32m~/dev/python/jax/pcg_stein/src/pcg_stein/precon.py:154\u001b[39m, in \u001b[36mNystrom.__call__\u001b[39m\u001b[34m(self, key, matrix, **kwargs)\u001b[39m\n\u001b[32m    151\u001b[39m K_mm, K_nm, K_mn = \u001b[38;5;28mself\u001b[39m.sub_matrix(key, K, m, indices=indices)\n\u001b[32m    153\u001b[39m \u001b[38;5;66;03m# Woodbury: (nugget * K_mm + K_mn @ K_nm) is the low-rank correction\u001b[39;00m\n\u001b[32m--> \u001b[39m\u001b[32m154\u001b[39m matrix_woodbury = \u001b[43mnugget\u001b[49m\u001b[43m \u001b[49m\u001b[43m*\u001b[49m\u001b[43m \u001b[49m\u001b[43mK_mm\u001b[49m + K_mn @ K_nm  \u001b[38;5;66;03m# shape (m, m)\u001b[39;00m\n\u001b[32m    155\u001b[39m matrix_woodbury_inv = \u001b[38;5;28mself\u001b[39m.spectral_pinv(\n\u001b[32m    156\u001b[39m     matrix_woodbury, max_cond_number=max_cond_number\n\u001b[32m    157\u001b[39m )\n\u001b[32m    159\u001b[39m \u001b[38;5;66;03m# Final preconditioner approximation\u001b[39;00m\n\u001b[32m    160\u001b[39m \u001b[38;5;66;03m# Precon ≈ (K + nugget * I)^{-1} = (I - K_nm @ matrix_woodbury_inv @ K_mn) / nugget\u001b[39;00m\n",
      "\u001b[36mFile \u001b[39m\u001b[32m~/dev/python/jax/.jax/lib/python3.12/site-packages/jax/_src/array.py:330\u001b[39m, in \u001b[36mArrayImpl.__index__\u001b[39m\u001b[34m(self)\u001b[39m\n\u001b[32m    329\u001b[39m \u001b[38;5;28;01mdef\u001b[39;00m\u001b[38;5;250m \u001b[39m\u001b[34m__index__\u001b[39m(\u001b[38;5;28mself\u001b[39m):\n\u001b[32m--> \u001b[39m\u001b[32m330\u001b[39m   \u001b[43mcore\u001b[49m\u001b[43m.\u001b[49m\u001b[43mcheck_integer_conversion\u001b[49m\u001b[43m(\u001b[49m\u001b[38;5;28;43mself\u001b[39;49m\u001b[43m)\u001b[49m\n\u001b[32m    331\u001b[39m   \u001b[38;5;28;01mreturn\u001b[39;00m op.index(\u001b[38;5;28mself\u001b[39m._value)\n",
      "\u001b[36mFile \u001b[39m\u001b[32m~/dev/python/jax/.jax/lib/python3.12/site-packages/jax/_src/core.py:708\u001b[39m, in \u001b[36mcheck_integer_conversion\u001b[39m\u001b[34m(arr)\u001b[39m\n\u001b[32m    706\u001b[39m \u001b[38;5;28;01mdef\u001b[39;00m\u001b[38;5;250m \u001b[39m\u001b[34mcheck_integer_conversion\u001b[39m(arr: Array):\n\u001b[32m    707\u001b[39m   \u001b[38;5;28;01mif\u001b[39;00m \u001b[38;5;129;01mnot\u001b[39;00m (arr.shape == () \u001b[38;5;129;01mand\u001b[39;00m dtypes.issubdtype(arr.dtype, np.integer)):\n\u001b[32m--> \u001b[39m\u001b[32m708\u001b[39m     \u001b[38;5;28;01mraise\u001b[39;00m \u001b[38;5;167;01mTypeError\u001b[39;00m(\u001b[33m\"\u001b[39m\u001b[33mOnly integer scalar arrays can be converted to a scalar index.\u001b[39m\u001b[33m\"\u001b[39m)\n",
      "\u001b[31mTypeError\u001b[39m: Only integer scalar arrays can be converted to a scalar index."
     ]
    }
   ],
   "source": [
    "test(precon_key, K, **job['precon_kwargs'])"
   ]
  },
  {
   "cell_type": "code",
   "execution_count": 17,
   "id": "28bd220c",
   "metadata": {},
   "outputs": [],
   "source": [
    "precon_mat = test(precon_key, K, m=50, nugget=1e-4)"
   ]
  },
  {
   "cell_type": "code",
   "execution_count": 8,
   "id": "b683e280",
   "metadata": {},
   "outputs": [
    {
     "ename": "TypeError",
     "evalue": "Only integer scalar arrays can be converted to a scalar index.",
     "output_type": "error",
     "traceback": [
      "\u001b[31m---------------------------------------------------------------------------\u001b[39m",
      "\u001b[31mTypeError\u001b[39m                                 Traceback (most recent call last)",
      "\u001b[36mCell\u001b[39m\u001b[36m \u001b[39m\u001b[32mIn[8]\u001b[39m\u001b[32m, line 8\u001b[39m\n\u001b[32m      5\u001b[39m key, data_key, precon_key = jax.random.split(key, \u001b[32m3\u001b[39m)\n\u001b[32m      6\u001b[39m rngs = {\u001b[33m\"\u001b[39m\u001b[33mdata\u001b[39m\u001b[33m\"\u001b[39m: data_key, \u001b[33m\"\u001b[39m\u001b[33mprecon\u001b[39m\u001b[33m\"\u001b[39m: precon_key}\n\u001b[32m----> \u001b[39m\u001b[32m8\u001b[39m \u001b[43mrun_one\u001b[49m\u001b[43m(\u001b[49m\u001b[43m*\u001b[49m\u001b[43m*\u001b[49m\u001b[43mjob\u001b[49m\u001b[43m,\u001b[49m\u001b[43m \u001b[49m\u001b[43mrngs\u001b[49m\u001b[43m=\u001b[49m\u001b[43mrngs\u001b[49m\u001b[43m)\u001b[49m\n",
      "\u001b[36mCell\u001b[39m\u001b[36m \u001b[39m\u001b[32mIn[1]\u001b[39m\u001b[32m, line 34\u001b[39m, in \u001b[36mrun_one\u001b[39m\u001b[34m(replicate, lengthscale, precon_cls, precon_kwargs, rngs)\u001b[39m\n\u001b[32m     32\u001b[39m K = kernel.stein_matrix(X, X, Sx, Sx, **kernel_kwargs) \u001b[38;5;66;03m# K in Kx = b\u001b[39;00m\n\u001b[32m     33\u001b[39m b = jnp.ones(NUM_MCMC_SAMPLES) \u001b[38;5;66;03m# b in Kx = b\u001b[39;00m\n\u001b[32m---> \u001b[39m\u001b[32m34\u001b[39m precon_mat = \u001b[43mprecon_cls\u001b[49m\u001b[43m(\u001b[49m\u001b[43m)\u001b[49m\u001b[43m(\u001b[49m\u001b[43mprecon_key\u001b[49m\u001b[43m,\u001b[49m\u001b[43m \u001b[49m\u001b[43mK\u001b[49m\u001b[43m,\u001b[49m\u001b[43m \u001b[49m\u001b[43m*\u001b[49m\u001b[43m*\u001b[49m\u001b[43mprecon_kwargs\u001b[49m\u001b[43m)\u001b[49m \u001b[38;5;66;03m# preconditioner matrix\u001b[39;00m\n\u001b[32m     36\u001b[39m \u001b[38;5;66;03m# 4. Compute reference worst-case error and tolerance\u001b[39;00m\n\u001b[32m     37\u001b[39m _, _, _, errs = pcg(K, b, maxiter=N_ITER_WCE_REFERENCE, rtol=\u001b[32m0.\u001b[39m, atol=\u001b[32m0.\u001b[39m, wce_tol=\u001b[32m0.\u001b[39m)\n",
      "\u001b[36mFile \u001b[39m\u001b[32m~/dev/python/jax/pcg_stein/src/pcg_stein/precon.py:154\u001b[39m, in \u001b[36mNystrom.__call__\u001b[39m\u001b[34m(self, key, matrix, **kwargs)\u001b[39m\n\u001b[32m    151\u001b[39m K_mm, K_nm, K_mn = \u001b[38;5;28mself\u001b[39m.sub_matrix(key, K, m, indices=indices)\n\u001b[32m    153\u001b[39m \u001b[38;5;66;03m# Woodbury: (nugget * K_mm + K_mn @ K_nm) is the low-rank correction\u001b[39;00m\n\u001b[32m--> \u001b[39m\u001b[32m154\u001b[39m matrix_woodbury = \u001b[43mnugget\u001b[49m\u001b[43m \u001b[49m\u001b[43m*\u001b[49m\u001b[43m \u001b[49m\u001b[43mK_mm\u001b[49m + K_mn @ K_nm  \u001b[38;5;66;03m# shape (m, m)\u001b[39;00m\n\u001b[32m    155\u001b[39m matrix_woodbury_inv = \u001b[38;5;28mself\u001b[39m.spectral_pinv(\n\u001b[32m    156\u001b[39m     matrix_woodbury, max_cond_number=max_cond_number\n\u001b[32m    157\u001b[39m )\n\u001b[32m    159\u001b[39m \u001b[38;5;66;03m# Final preconditioner approximation\u001b[39;00m\n\u001b[32m    160\u001b[39m \u001b[38;5;66;03m# Precon ≈ (K + nugget * I)^{-1} = (I - K_nm @ matrix_woodbury_inv @ K_mn) / nugget\u001b[39;00m\n",
      "\u001b[36mFile \u001b[39m\u001b[32m~/dev/python/jax/.jax/lib/python3.12/site-packages/jax/_src/array.py:330\u001b[39m, in \u001b[36mArrayImpl.__index__\u001b[39m\u001b[34m(self)\u001b[39m\n\u001b[32m    329\u001b[39m \u001b[38;5;28;01mdef\u001b[39;00m\u001b[38;5;250m \u001b[39m\u001b[34m__index__\u001b[39m(\u001b[38;5;28mself\u001b[39m):\n\u001b[32m--> \u001b[39m\u001b[32m330\u001b[39m   \u001b[43mcore\u001b[49m\u001b[43m.\u001b[49m\u001b[43mcheck_integer_conversion\u001b[49m\u001b[43m(\u001b[49m\u001b[38;5;28;43mself\u001b[39;49m\u001b[43m)\u001b[49m\n\u001b[32m    331\u001b[39m   \u001b[38;5;28;01mreturn\u001b[39;00m op.index(\u001b[38;5;28mself\u001b[39m._value)\n",
      "\u001b[36mFile \u001b[39m\u001b[32m~/dev/python/jax/.jax/lib/python3.12/site-packages/jax/_src/core.py:708\u001b[39m, in \u001b[36mcheck_integer_conversion\u001b[39m\u001b[34m(arr)\u001b[39m\n\u001b[32m    706\u001b[39m \u001b[38;5;28;01mdef\u001b[39;00m\u001b[38;5;250m \u001b[39m\u001b[34mcheck_integer_conversion\u001b[39m(arr: Array):\n\u001b[32m    707\u001b[39m   \u001b[38;5;28;01mif\u001b[39;00m \u001b[38;5;129;01mnot\u001b[39;00m (arr.shape == () \u001b[38;5;129;01mand\u001b[39;00m dtypes.issubdtype(arr.dtype, np.integer)):\n\u001b[32m--> \u001b[39m\u001b[32m708\u001b[39m     \u001b[38;5;28;01mraise\u001b[39;00m \u001b[38;5;167;01mTypeError\u001b[39;00m(\u001b[33m\"\u001b[39m\u001b[33mOnly integer scalar arrays can be converted to a scalar index.\u001b[39m\u001b[33m\"\u001b[39m)\n",
      "\u001b[31mTypeError\u001b[39m: Only integer scalar arrays can be converted to a scalar index."
     ]
    }
   ],
   "source": [
    "job_index = 0\n",
    "job = jobs[job_index]\n",
    "\n",
    "key = jax.random.key(0)\n",
    "key, data_key, precon_key = jax.random.split(key, 3)\n",
    "rngs = {\"data\": data_key, \"precon\": precon_key}\n",
    "\n",
    "run_one(**job, rngs=rngs)\n"
   ]
  },
  {
   "cell_type": "code",
   "execution_count": null,
   "id": "08113133",
   "metadata": {},
   "outputs": [],
   "source": [
    "class PCG_Experiment:\n",
    "\n",
    "    def __init__(\n",
    "        self,\n",
    "        dist: Distribution,\n",
    "        dist_sample: Array,\n",
    "        kernel: Kernel,\n",
    "        preconditioners: list[Preconditioner],\n",
    "    ):\n",
    "        \"\"\"\n",
    "        Initialises the PCG experiment with the target distribution, sample data, kernel, and preconditioners.\n",
    "\n",
    "        Args:\n",
    "            dist (Distribution): The target distribution defining the log density and score function.\n",
    "            dist_sample (Array): A set of samples drawn from the target distribution.\n",
    "            kernel (Kernel): A positive-definite kernel function used to construct the Stein kernel matrix.\n",
    "            preconditioners (list[Preconditioner]): A list of preconditioners to be applied.\n",
    "        \"\"\"\n",
    "\n",
    "        self.dist = dist  # posterior\n",
    "        self.X = dist_sample  # posterior samples\n",
    "        self.Sx = self.dist.score(self.X)  # posterior scores\n",
    "\n",
    "        self.n, self.d = self.X.shape\n",
    "\n",
    "        self.kernel = kernel\n",
    "        self.preconditioners = preconditioners\n",
    "\n",
    "        self.wce = None\n",
    "\n",
    "    def _stein_matrix(self, **kernel_kwargs: Any):\n",
    "        return self.kernel.stein_matrix(\n",
    "            self.X, self.X, self.Sx, self.Sx, **kernel_kwargs\n",
    "        )\n",
    "\n",
    "    def set_reference_wce(\n",
    "        self, wce: Optional[float] = None, maxiter: int = 10_000, **hyper: Any\n",
    "    ):\n",
    "        \"\"\"\n",
    "        Sets reference worst-case error to be used as termination criterion in PCG for the experiment.\n",
    "        \"\"\"\n",
    "        if wce is None:\n",
    "            stein_matrix = self._stein_matrix(**hyper)\n",
    "            _, _, _, errs = pcg(\n",
    "                stein_matrix, b=jnp.ones(self.n), maxiter=maxiter, rtol=0.0, atol=0.0\n",
    "            )\n",
    "            self.wce = errs[-1]\n",
    "        else:\n",
    "            self.wce = wce\n",
    "\n",
    "    def __call__(\n",
    "        self,\n",
    "        precon_key: Array,\n",
    "        *,\n",
    "        wce_mul: float = 1.1,\n",
    "        maxiter: int = 1_000,\n",
    "        kernel_kwargs: dict | None = None,\n",
    "        precon_kwargs: dict | None = None,\n",
    "        debug_mode: bool = True,\n",
    "    ):\n",
    "        \"\"\"\n",
    "        Runs a PCG experiment. Compares the close\n",
    "\n",
    "        Args:\n",
    "            precon_key: Array\n",
    "                Used in random preconditioners.\n",
    "            wce_mul: float\n",
    "                The number multiplied by the reference worst-case error to act as termination criterion.\n",
    "            max_iter: int, optional\n",
    "                Maximum number of iterations of PCG to perform before failure\n",
    "            kernel_kwargs  : dict, optional\n",
    "                Extra args forwarded only to kernel.stein_matrix().\n",
    "            precon_kwargs  : dict, optional\n",
    "                Extra args forwarded only to each preconditioner.\n",
    "        Returns:\n",
    "            A dictionary of gains for each preconditioner. The gain is defined as log(1 + m_CG) - log(1 + m_PCG),\n",
    "            where m_CG/m_PCG are the number of iterations of CG/PCG required for\n",
    "            the the worst-case error termination criterion to be fulfilled.\n",
    "        \"\"\"\n",
    "\n",
    "        debug_output = []\n",
    "\n",
    "        kernel_kwargs = {} if kernel_kwargs is None else kernel_kwargs\n",
    "        precon_kwargs = {} if precon_kwargs is None else precon_kwargs\n",
    "\n",
    "        stein_matrix = self._stein_matrix(**kernel_kwargs)\n",
    "\n",
    "        # compute reference worst-case error if required:\n",
    "        if self.wce is None:\n",
    "            self.set_reference_wce(**kernel_kwargs)\n",
    "\n",
    "        wce_tol = (\n",
    "            wce_mul * self.wce\n",
    "        )  # worst-case error tolerance (termination criterion in PCG)\n",
    "\n",
    "        # define b in Mx = b\n",
    "        b = jnp.ones(self.n)\n",
    "\n",
    "        # run CG without preconditioner\n",
    "        cg_output = pcg(\n",
    "            stein_matrix, b=b, maxiter=maxiter, rtol=0.0, atol=0.0, wce_tol=wce_tol\n",
    "        )\n",
    "\n",
    "        m_cg = cg_output[1]\n",
    "\n",
    "        if debug_mode is True:\n",
    "            debug_dict = self.check_failure_conditions(\n",
    "                cg_output,\n",
    "                precon=None,\n",
    "                precon_mat=None,\n",
    "                maxiter=maxiter,\n",
    "                wce_tol=wce_tol,\n",
    "                kernel_kwargs=kernel_kwargs,\n",
    "                precon_kwargs=None,\n",
    "            )\n",
    "            if debug_dict is not None:\n",
    "                debug_output.append(debug_dict)\n",
    "\n",
    "        gain_dict = {}\n",
    "\n",
    "        # run PCG for each preconditioner\n",
    "        for precon in self.preconditioners:\n",
    "            precon_key, _ = jax.random.split(precon_key, 2)\n",
    "            precon_mat = precon(precon_key, stein_matrix, **precon_kwargs)\n",
    "\n",
    "            pcg_output = pcg(\n",
    "                stein_matrix,\n",
    "                b=b,\n",
    "                maxiter=maxiter,\n",
    "                rtol=0.0,\n",
    "                atol=0.0,\n",
    "                wce_tol=wce_tol,\n",
    "                M_inv=precon_mat,\n",
    "            )\n",
    "\n",
    "            m_pcg = pcg_output[1]\n",
    "            gain = jnp.log(1 + m_cg) - jnp.log(1 + m_pcg)\n",
    "            gain_dict[precon.name] = gain\n",
    "\n",
    "            if debug_mode is True:\n",
    "                debug_dict = self.check_failure_conditions(\n",
    "                    pcg_output,\n",
    "                    precon=precon,\n",
    "                    precon_mat=precon_mat,\n",
    "                    maxiter=maxiter,\n",
    "                    wce_tol=wce_tol,\n",
    "                    kernel_kwargs=kernel_kwargs,\n",
    "                    precon_kwargs=precon_kwargs,\n",
    "                )\n",
    "                if debug_dict is not None:\n",
    "                    debug_output.append(debug_dict)\n",
    "\n",
    "        return gain_dict\n",
    "\n",
    "    def check_failure_conditions(\n",
    "        self,\n",
    "        pcg_output: tuple[Array, ...],\n",
    "        precon: Optional[Preconditioner] = None,\n",
    "        precon_mat: Optional[Array] = None,\n",
    "        precon_key: Optional[Array] = None,\n",
    "        maxiter: int = 1_000,\n",
    "        wce_tol: Optional[float] = 0.0,\n",
    "        kernel_kwargs: dict | None = None,\n",
    "        precon_kwargs: dict | None = None,\n",
    "    ):\n",
    "\n",
    "        x, k, res, wce = pcg_output\n",
    "\n",
    "        nan_check = jnp.any(jnp.isnan(x))\n",
    "        termination_check = bool(k == maxiter)\n",
    "\n",
    "        if precon is None:\n",
    "            name = \"CG\"\n",
    "        else:\n",
    "            name = precon.name\n",
    "\n",
    "        if nan_check:\n",
    "            print(f\"nan check failed for {name}\")\n",
    "        if termination_check:\n",
    "            print(f\"Termination check failed for {name} (maxiter {maxiter} met)\")\n",
    "\n",
    "        fail_bool = nan_check or termination_check\n",
    "\n",
    "        if fail_bool:\n",
    "            debug_dict = {\n",
    "                \"pcg_output\": pcg_output,\n",
    "                \"precon_mat\": precon_mat,\n",
    "                \"precon_key\": precon_key,\n",
    "                \"kernel_kwargs\": kernel_kwargs,\n",
    "                \"precon_kwargs\": precon_kwargs,\n",
    "                \"wce_tol\": wce_tol,\n",
    "            }\n",
    "            return debug_dict\n",
    "        else:\n",
    "            return None"
   ]
  },
  {
   "cell_type": "code",
   "execution_count": null,
   "id": "9396276d",
   "metadata": {},
   "outputs": [],
   "source": [
    "from pcg_stein.registry import PRECON_REGISTRY, KERNEL_REGISTRY, DISTRIBUTION_REGISTRY\n",
    "\n",
    "def run_one(cfg, *, rngs) -> dict:\n",
    "    \"\"\"\n",
    "    Runs one experiment with\n",
    "    Args:\n",
    "\n",
    "        rngs : dict of JAX PRNG keys with dict keys 'data', 'precon', 'pcg'\n",
    " \n",
    "    \"\"\"\n",
    "\n",
    "    kernel = KERNEL_REGISTRY[cfg.kernel]\n",
    "    precon = PRECON_REGISTRY[cfg.precon]\n",
    "\n",
    "    lengthscale = cfg.lengthscale\n",
    "    \n",
    "    \n"
   ]
  },
  {
   "cell_type": "code",
   "execution_count": null,
   "id": "610674dd",
   "metadata": {},
   "outputs": [],
   "source": []
  },
  {
   "cell_type": "code",
   "execution_count": null,
   "id": "13d1a864",
   "metadata": {},
   "outputs": [],
   "source": []
  },
  {
   "cell_type": "code",
   "execution_count": null,
   "id": "ff9acc0d",
   "metadata": {},
   "outputs": [],
   "source": []
  },
  {
   "cell_type": "code",
   "execution_count": null,
   "id": "bd9a4d06",
   "metadata": {},
   "outputs": [],
   "source": []
  },
  {
   "cell_type": "code",
   "execution_count": null,
   "id": "eb08a708",
   "metadata": {},
   "outputs": [],
   "source": []
  },
  {
   "cell_type": "code",
   "execution_count": 4,
   "id": "c7ca6f51",
   "metadata": {},
   "outputs": [
    {
     "data": {
      "text/plain": [
       "{'Matern52': pcg_stein.kernel.Matern52Kernel,\n",
       " 'Matern72': pcg_stein.kernel.Matern72Kernel,\n",
       " 'Gaussian': pcg_stein.kernel.GaussianKernel,\n",
       " 'IMQ': pcg_stein.kernel.IMQKernel}"
      ]
     },
     "execution_count": 4,
     "metadata": {},
     "output_type": "execute_result"
    }
   ],
   "source": [
    "from pcg_stein.registry import KERNEL_REGISTRY, PRECON_REGISTRY\n",
    "\n",
    "KERNEL_REGISTRY"
   ]
  },
  {
   "cell_type": "code",
   "execution_count": 5,
   "id": "3a509773",
   "metadata": {},
   "outputs": [
    {
     "data": {
      "text/plain": [
       "{'Nystrom': pcg_stein.precon.Nystrom,\n",
       " 'NystromRandom': pcg_stein.precon.NystromRandom,\n",
       " 'NystromDiagonal': pcg_stein.precon.NystromDiagonal,\n",
       " 'RandomisedSVD': pcg_stein.precon.RandomisedSVD,\n",
       " 'FITC': pcg_stein.precon.FITC,\n",
       " 'BlockJacobi': pcg_stein.precon.BlockJacobi}"
      ]
     },
     "execution_count": 5,
     "metadata": {},
     "output_type": "execute_result"
    }
   ],
   "source": [
    "PRECON_REGISTRY"
   ]
  },
  {
   "cell_type": "code",
   "execution_count": null,
   "id": "c3d91e0a",
   "metadata": {},
   "outputs": [
    {
     "data": {
      "text/plain": [
       "(1000, 1000)"
      ]
     },
     "execution_count": 39,
     "metadata": {},
     "output_type": "execute_result"
    }
   ],
   "source": [
    "kernel = Matern52Kernel()\n",
    "precons = [Nystrom(), NystromDiagonal(), NystromRandom(), RandomisedSVD(), FITC(), BlockJacobi()]\n",
    "\n",
    "synth_data_key = jax.random.key(0) # key used to generate synthetic data\n",
    "n_synth_data = 1_000\n",
    "true_beta = jnp.array([1.0, -2.0, 1.0, 4.0])\n",
    "dist = BayesianLogisticRegression.from_synthetic(synth_data_key, n_synth_data, true_beta=true_beta)\n",
    "X = dist.sample(jax.random.key(0), 1000)\n",
    "Sx = dist.score(X)\n",
    "\n",
    "stein_mat = kernel.stein_matrix(X, X, Sx, Sx)\n",
    "b = jnp.ones(1000)\n",
    "\n",
    "key = jax.random.key(1)\n",
    "precons[0](key, stein_mat, nugget=1e-3, block_size=5, m=50).shape"
   ]
  },
  {
   "cell_type": "code",
   "execution_count": null,
   "id": "f8f3dbea",
   "metadata": {},
   "outputs": [
    {
     "data": {
      "text/plain": [
       "{'Nystrom': Array(0., dtype=float64, weak_type=True),\n",
       " 'Nystrom (diagonal sampling)': Array(0., dtype=float64, weak_type=True),\n",
       " 'Nystrom (random projection)': Array(0., dtype=float64, weak_type=True),\n",
       " 'Randomised SVD': Array(0.28768207, dtype=float64, weak_type=True),\n",
       " 'FITC': Array(0., dtype=float64, weak_type=True),\n",
       " 'Block Jacobi': Array(0., dtype=float64, weak_type=True)}"
      ]
     },
     "execution_count": 6,
     "metadata": {},
     "output_type": "execute_result"
    }
   ],
   "source": [
    "key = jax.random.key(1)\n",
    "\n",
    "pcg_exp = PCG_Experiment(dist, X, kernel, precons)\n",
    "\n",
    "\n",
    "\n",
    "pcg_exp(key, precon_kwargs={'m': 50, 'nugget':1e-1, 'block_size': 5}, kernel_kwargs={'lengthscale': 1e-1})"
   ]
  },
  {
   "cell_type": "code",
   "execution_count": 77,
   "id": "ba3347fc",
   "metadata": {},
   "outputs": [
    {
     "name": "stdout",
     "output_type": "stream",
     "text": [
      "0.018074998514670412\n",
      "cg iters: 458\n",
      "pcg iters: 65\n"
     ]
    }
   ],
   "source": [
    "ell = 1.\n",
    "stein_mat = kernel.stein_matrix(X, X, Sx, Sx, lengthscale=ell)\n",
    "pcg_exp.set_reference_wce(lengthscale=ell)\n",
    "wce = pcg_exp.wce\n",
    "print(wce)\n",
    "\n",
    "out_cg = pcg(stein_mat, b, wce_tol = wce * 1.01, atol=0., rtol=0., M_inv=None)\n",
    "\n",
    "m_inv = precons[2](jax.random.key(1), stein_mat, nugget=1e-1, block_size=5, m=50)\n",
    "\n",
    "out_pcg = pcg(stein_mat, b, wce_tol = wce * 1.01, atol=0., rtol=0., M_inv=m_inv)\n",
    "\n",
    "print('cg iters:', out_cg[1])\n",
    "print('pcg iters:' ,out_pcg[1])"
   ]
  },
  {
   "cell_type": "code",
   "execution_count": 78,
   "id": "603675af",
   "metadata": {},
   "outputs": [],
   "source": [
    "out_cg = pcg(stein_mat, b, maxiter=1000, wce_tol=0., atol=0., rtol=0., M_inv=None)\n",
    "out_pcg = pcg(stein_mat, b, maxiter=1000, wce_tol=0., atol=0., rtol=0., M_inv=m_inv)"
   ]
  },
  {
   "cell_type": "code",
   "execution_count": 79,
   "id": "be643d24",
   "metadata": {},
   "outputs": [
    {
     "data": {
      "text/plain": [
       "<matplotlib.legend.Legend at 0x7fe7869150d0>"
      ]
     },
     "execution_count": 79,
     "metadata": {},
     "output_type": "execute_result"
    },
    {
     "data": {
      "image/png": "[encoded data removed]",
      "text/plain": [
       "<Figure size 640x480 with 1 Axes>"
      ]
     },
     "metadata": {},
     "output_type": "display_data"
    }
   ],
   "source": [
    "plt.plot(out_cg[3], label='CG')\n",
    "plt.plot(out_pcg[3], label='PCG')\n",
    "plt.yscale('log')\n",
    "plt.legend()"
   ]
  },
  {
   "cell_type": "code",
   "execution_count": 53,
   "id": "b272d639",
   "metadata": {},
   "outputs": [
    {
     "data": {
      "text/plain": [
       "Array(28, dtype=int64, weak_type=True)"
      ]
     },
     "execution_count": 53,
     "metadata": {},
     "output_type": "execute_result"
    }
   ],
   "source": [
    "out_pcg[1]"
   ]
  },
  {
   "cell_type": "code",
   "execution_count": null,
   "id": "c78471ca",
   "metadata": {},
   "outputs": [],
   "source": [
    "pcg(stein_mat, b, wce_tol=0.74676366 * 1.1, M_inv=None)"
   ]
  },
  {
   "cell_type": "code",
   "execution_count": 31,
   "id": "e6241518",
   "metadata": {},
   "outputs": [],
   "source": [
    "pcg_exp.set_reference_wce(lengthscale=lengthscales[0])"
   ]
  },
  {
   "cell_type": "code",
   "execution_count": 32,
   "id": "ebc371df",
   "metadata": {},
   "outputs": [
    {
     "data": {
      "text/plain": [
       "Array(1.66237682, dtype=float64)"
      ]
     },
     "execution_count": 32,
     "metadata": {},
     "output_type": "execute_result"
    }
   ],
   "source": [
    "pcg_exp.wce"
   ]
  },
  {
   "cell_type": "code",
   "execution_count": 7,
   "id": "6455ab44",
   "metadata": {},
   "outputs": [
    {
     "data": {
      "text/plain": [
       "Array(0.74676366, dtype=float64)"
      ]
     },
     "execution_count": 7,
     "metadata": {},
     "output_type": "execute_result"
    }
   ],
   "source": [
    "pcg_exp.wce"
   ]
  },
  {
   "cell_type": "code",
   "execution_count": 29,
   "id": "8ec27c55",
   "metadata": {},
   "outputs": [
    {
     "data": {
      "text/plain": [
       "Array(0.04978707, dtype=float64)"
      ]
     },
     "execution_count": 29,
     "metadata": {},
     "output_type": "execute_result"
    }
   ],
   "source": [
    "lengthscales[0]"
   ]
  },
  {
   "cell_type": "code",
   "execution_count": 33,
   "id": "abdd7f5e",
   "metadata": {},
   "outputs": [
    {
     "data": {
      "text/plain": [
       "(Array([0.00033056, 0.00033056, 0.00033056, 0.00033056, 0.00033056,\n",
       "        0.00033056, 0.00033056, 0.00033056, 0.00033056, 0.00033056,\n",
       "        0.00033056, 0.00033056, 0.00033056, 0.00033056, 0.00033056,\n",
       "        0.00033056, 0.00033056, 0.00033056, 0.00033056, 0.00033056,\n",
       "        0.00033056, 0.00033056, 0.00033056, 0.00033056, 0.00033056,\n",
       "        0.00033056, 0.00033056, 0.00033056, 0.00033056, 0.00033056,\n",
       "        0.00033056, 0.00033056, 0.00033056, 0.00033056, 0.00033056,\n",
       "        0.00033056, 0.00033056, 0.00033056, 0.00033056, 0.00033056,\n",
       "        0.00033056, 0.00033056, 0.00033056, 0.00033056, 0.00033056,\n",
       "        0.00033056, 0.00033056, 0.00033056, 0.00033056, 0.00033056,\n",
       "        0.00033056, 0.00033056, 0.00033056, 0.00033056, 0.00033056,\n",
       "        0.00033056, 0.00033056, 0.00033056, 0.00033056, 0.00033056,\n",
       "        0.00033056, 0.00033056, 0.00033056, 0.00033056, 0.00033056,\n",
       "        0.00033056, 0.00033056, 0.00033056, 0.00033056, 0.00033056,\n",
       "        0.00033056, 0.00033056, 0.00033056, 0.00033056, 0.00033056,\n",
       "        0.00033056, 0.00033056, 0.00033056, 0.00033056, 0.00033056,\n",
       "        0.00033056, 0.00033056, 0.00033056, 0.00033056, 0.00033056,\n",
       "        0.00033056, 0.00033056, 0.00033056, 0.00033056, 0.00033056,\n",
       "        0.00033056, 0.00033056, 0.00033056, 0.00033056, 0.00033056,\n",
       "        0.00033056, 0.00033056, 0.00033056, 0.00033056, 0.00033056,\n",
       "        0.00033056, 0.00033056, 0.00033056, 0.00033056, 0.00033056,\n",
       "        0.00033056, 0.00033056, 0.00033056, 0.00033056, 0.00033056,\n",
       "        0.00033056, 0.00033056, 0.00033056, 0.00033056, 0.00033056,\n",
       "        0.00033056, 0.00033056, 0.00033056, 0.00033056, 0.00033056,\n",
       "        0.00033056, 0.00033056, 0.00033056, 0.00033056, 0.00033056,\n",
       "        0.00033056, 0.00033056, 0.00033056, 0.00033056, 0.00033056,\n",
       "        0.00033056, 0.00033056, 0.00033056, 0.00033056, 0.00033056,\n",
       "        0.00033056, 0.00033056, 0.00033056, 0.00033056, 0.00033056,\n",
       "        0.00033056, 0.00033056, 0.00033056, 0.00033056, 0.00033056,\n",
       "        0.00033056, 0.00033056, 0.00033056, 0.00033056, 0.00033056,\n",
       "        0.00033056, 0.00033056, 0.00033056, 0.00033056, 0.00033056,\n",
       "        0.00033056, 0.00033056, 0.00033056, 0.00033056, 0.00033056,\n",
       "        0.00033056, 0.00033056, 0.00033056, 0.00033056, 0.00033056,\n",
       "        0.00033056, 0.00033056, 0.00033056, 0.00033056, 0.00033056,\n",
       "        0.00033056, 0.00033056, 0.00033056, 0.00033056, 0.00033056,\n",
       "        0.00033056, 0.00033056, 0.00033056, 0.00033056, 0.00033056,\n",
       "        0.00033056, 0.00033056, 0.00033056, 0.00033056, 0.00033056,\n",
       "        0.00033056, 0.00033056, 0.00033056, 0.00033056, 0.00033056,\n",
       "        0.00033056, 0.00033056, 0.00033056, 0.00033056, 0.00033056,\n",
       "        0.00033056, 0.00033056, 0.00033056, 0.00033056, 0.00033056,\n",
       "        0.00033056, 0.00033056, 0.00033056, 0.00033056, 0.00033056,\n",
       "        0.00033056, 0.00033056, 0.00033056, 0.00033056, 0.00033056,\n",
       "        0.00033056, 0.00033056, 0.00033056, 0.00033056, 0.00033056,\n",
       "        0.00033056, 0.00033056, 0.00033056, 0.00033056, 0.00033056,\n",
       "        0.00033056, 0.00033056, 0.00033056, 0.00033056, 0.00033056,\n",
       "        0.00033056, 0.00033056, 0.00033056, 0.00033056, 0.00033056,\n",
       "        0.00033056, 0.00033056, 0.00033056, 0.00033056, 0.00033056,\n",
       "        0.00033056, 0.00033056, 0.00033056, 0.00033056, 0.00033056,\n",
       "        0.00033056, 0.00033056, 0.00033056, 0.00033056, 0.00033056,\n",
       "        0.00033056, 0.00033056, 0.00033056, 0.00033056, 0.00033056,\n",
       "        0.00033056, 0.00033056, 0.00033056, 0.00033056, 0.00033056,\n",
       "        0.00033056, 0.00033056, 0.00033056, 0.00033056, 0.00033056,\n",
       "        0.00033056, 0.00033056, 0.00033056, 0.00033056, 0.00033056,\n",
       "        0.00033056, 0.00033056, 0.00033056, 0.00033056, 0.00033056,\n",
       "        0.00033056, 0.00033056, 0.00033056, 0.00033056, 0.00033056,\n",
       "        0.00033056, 0.00033056, 0.00033056, 0.00033056, 0.00033056,\n",
       "        0.00033056, 0.00033056, 0.00033056, 0.00033056, 0.00033056,\n",
       "        0.00033056, 0.00033056, 0.00033056, 0.00033056, 0.00033056,\n",
       "        0.00033056, 0.00033056, 0.00033056, 0.00033056, 0.00033056,\n",
       "        0.00033056, 0.00033056, 0.00033056, 0.00033056, 0.00033056,\n",
       "        0.00033056, 0.00033056, 0.00033056, 0.00033056, 0.00033056,\n",
       "        0.00033056, 0.00033056, 0.00033056, 0.00033056, 0.00033056,\n",
       "        0.00033056, 0.00033056, 0.00033056, 0.00033056, 0.00033056,\n",
       "        0.00033056, 0.00033056, 0.00033056, 0.00033056, 0.00033056,\n",
       "        0.00033056, 0.00033056, 0.00033056, 0.00033056, 0.00033056,\n",
       "        0.00033056, 0.00033056, 0.00033056, 0.00033056, 0.00033056,\n",
       "        0.00033056, 0.00033056, 0.00033056, 0.00033056, 0.00033056,\n",
       "        0.00033056, 0.00033056, 0.00033056, 0.00033056, 0.00033056,\n",
       "        0.00033056, 0.00033056, 0.00033056, 0.00033056, 0.00033056,\n",
       "        0.00033056, 0.00033056, 0.00033056, 0.00033056, 0.00033056,\n",
       "        0.00033056, 0.00033056, 0.00033056, 0.00033056, 0.00033056,\n",
       "        0.00033056, 0.00033056, 0.00033056, 0.00033056, 0.00033056,\n",
       "        0.00033056, 0.00033056, 0.00033056, 0.00033056, 0.00033056,\n",
       "        0.00033056, 0.00033056, 0.00033056, 0.00033056, 0.00033056,\n",
       "        0.00033056, 0.00033056, 0.00033056, 0.00033056, 0.00033056,\n",
       "        0.00033056, 0.00033056, 0.00033056, 0.00033056, 0.00033056,\n",
       "        0.00033056, 0.00033056, 0.00033056, 0.00033056, 0.00033056,\n",
       "        0.00033056, 0.00033056, 0.00033056, 0.00033056, 0.00033056,\n",
       "        0.00033056, 0.00033056, 0.00033056, 0.00033056, 0.00033056,\n",
       "        0.00033056, 0.00033056, 0.00033056, 0.00033056, 0.00033056,\n",
       "        0.00033056, 0.00033056, 0.00033056, 0.00033056, 0.00033056,\n",
       "        0.00033056, 0.00033056, 0.00033056, 0.00033056, 0.00033056,\n",
       "        0.00033056, 0.00033056, 0.00033056, 0.00033056, 0.00033056,\n",
       "        0.00033056, 0.00033056, 0.00033056, 0.00033056, 0.00033056,\n",
       "        0.00033056, 0.00033056, 0.00033056, 0.00033056, 0.00033056,\n",
       "        0.00033056, 0.00033056, 0.00033056, 0.00033056, 0.00033056,\n",
       "        0.00033056, 0.00033056, 0.00033056, 0.00033056, 0.00033056,\n",
       "        0.00033056, 0.00033056, 0.00033056, 0.00033056, 0.00033056,\n",
       "        0.00033056, 0.00033056, 0.00033056, 0.00033056, 0.00033056,\n",
       "        0.00033056, 0.00033056, 0.00033056, 0.00033056, 0.00033056,\n",
       "        0.00033056, 0.00033056, 0.00033056, 0.00033056, 0.00033056,\n",
       "        0.00033056, 0.00033056, 0.00033056, 0.00033056, 0.00033056,\n",
       "        0.00033056, 0.00033056, 0.00033056, 0.00033056, 0.00033056,\n",
       "        0.00033056, 0.00033056, 0.00033056, 0.00033056, 0.00033056,\n",
       "        0.00033056, 0.00033056, 0.00033056, 0.00033056, 0.00033056,\n",
       "        0.00033056, 0.00033056, 0.00033056, 0.00033056, 0.00033056,\n",
       "        0.00033056, 0.00033056, 0.00033056, 0.00033056, 0.00033056,\n",
       "        0.00033056, 0.00033056, 0.00033056, 0.00033056, 0.00033056,\n",
       "        0.00033056, 0.00033056, 0.00033056, 0.00033056, 0.00033056,\n",
       "        0.00033056, 0.00033056, 0.00033056, 0.00033056, 0.00033056,\n",
       "        0.00033056, 0.00033056, 0.00033056, 0.00033056, 0.00033056,\n",
       "        0.00033056, 0.00033056, 0.00033056, 0.00033056, 0.00033056,\n",
       "        0.00033056, 0.00033056, 0.00033056, 0.00033056, 0.00033056,\n",
       "        0.00033056, 0.00033056, 0.00033056, 0.00033056, 0.00033056,\n",
       "        0.00033056, 0.00033056, 0.00033056, 0.00033056, 0.00033056,\n",
       "        0.00033056, 0.00033056, 0.00033056, 0.00033056, 0.00033056,\n",
       "        0.00033056, 0.00033056, 0.00033056, 0.00033056, 0.00033056,\n",
       "        0.00033056, 0.00033056, 0.00033056, 0.00033056, 0.00033056,\n",
       "        0.00033056, 0.00033056, 0.00033056, 0.00033056, 0.00033056,\n",
       "        0.00033056, 0.00033056, 0.00033056, 0.00033056, 0.00033056,\n",
       "        0.00033056, 0.00033056, 0.00033056, 0.00033056, 0.00033056,\n",
       "        0.00033056, 0.00033056, 0.00033056, 0.00033056, 0.00033056,\n",
       "        0.00033056, 0.00033056, 0.00033056, 0.00033056, 0.00033056,\n",
       "        0.00033056, 0.00033056, 0.00033056, 0.00033056, 0.00033056,\n",
       "        0.00033056, 0.00033056, 0.00033056, 0.00033056, 0.00033056,\n",
       "        0.00033056, 0.00033056, 0.00033056, 0.00033056, 0.00033056,\n",
       "        0.00033056, 0.00033056, 0.00033056, 0.00033056, 0.00033056,\n",
       "        0.00033056, 0.00033056, 0.00033056, 0.00033056, 0.00033056,\n",
       "        0.00033056, 0.00033056, 0.00033056, 0.00033056, 0.00033056,\n",
       "        0.00033056, 0.00033056, 0.00033056, 0.00033056, 0.00033056,\n",
       "        0.00033056, 0.00033056, 0.00033056, 0.00033056, 0.00033056,\n",
       "        0.00033056, 0.00033056, 0.00033056, 0.00033056, 0.00033056,\n",
       "        0.00033056, 0.00033056, 0.00033056, 0.00033056, 0.00033056,\n",
       "        0.00033056, 0.00033056, 0.00033056, 0.00033056, 0.00033056,\n",
       "        0.00033056, 0.00033056, 0.00033056, 0.00033056, 0.00033056,\n",
       "        0.00033056, 0.00033056, 0.00033056, 0.00033056, 0.00033056,\n",
       "        0.00033056, 0.00033056, 0.00033056, 0.00033056, 0.00033056,\n",
       "        0.00033056, 0.00033056, 0.00033056, 0.00033056, 0.00033056,\n",
       "        0.00033056, 0.00033056, 0.00033056, 0.00033056, 0.00033056,\n",
       "        0.00033056, 0.00033056, 0.00033056, 0.00033056, 0.00033056,\n",
       "        0.00033056, 0.00033056, 0.00033056, 0.00033056, 0.00033056,\n",
       "        0.00033056, 0.00033056, 0.00033056, 0.00033056, 0.00033056,\n",
       "        0.00033056, 0.00033056, 0.00033056, 0.00033056, 0.00033056,\n",
       "        0.00033056, 0.00033056, 0.00033056, 0.00033056, 0.00033056,\n",
       "        0.00033056, 0.00033056, 0.00033056, 0.00033056, 0.00033056,\n",
       "        0.00033056, 0.00033056, 0.00033056, 0.00033056, 0.00033056,\n",
       "        0.00033056, 0.00033056, 0.00033056, 0.00033056, 0.00033056,\n",
       "        0.00033056, 0.00033056, 0.00033056, 0.00033056, 0.00033056,\n",
       "        0.00033056, 0.00033056, 0.00033056, 0.00033056, 0.00033056,\n",
       "        0.00033056, 0.00033056, 0.00033056, 0.00033056, 0.00033056,\n",
       "        0.00033056, 0.00033056, 0.00033056, 0.00033056, 0.00033056,\n",
       "        0.00033056, 0.00033056, 0.00033056, 0.00033056, 0.00033056,\n",
       "        0.00033056, 0.00033056, 0.00033056, 0.00033056, 0.00033056,\n",
       "        0.00033056, 0.00033056, 0.00033056, 0.00033056, 0.00033056,\n",
       "        0.00033056, 0.00033056, 0.00033056, 0.00033056, 0.00033056,\n",
       "        0.00033056, 0.00033056, 0.00033056, 0.00033056, 0.00033056,\n",
       "        0.00033056, 0.00033056, 0.00033056, 0.00033056, 0.00033056,\n",
       "        0.00033056, 0.00033056, 0.00033056, 0.00033056, 0.00033056,\n",
       "        0.00033056, 0.00033056, 0.00033056, 0.00033056, 0.00033056,\n",
       "        0.00033056, 0.00033056, 0.00033056, 0.00033056, 0.00033056,\n",
       "        0.00033056, 0.00033056, 0.00033056, 0.00033056, 0.00033056,\n",
       "        0.00033056, 0.00033056, 0.00033056, 0.00033056, 0.00033056,\n",
       "        0.00033056, 0.00033056, 0.00033056, 0.00033056, 0.00033056,\n",
       "        0.00033056, 0.00033056, 0.00033056, 0.00033056, 0.00033056,\n",
       "        0.00033056, 0.00033056, 0.00033056, 0.00033056, 0.00033056,\n",
       "        0.00033056, 0.00033056, 0.00033056, 0.00033056, 0.00033056,\n",
       "        0.00033056, 0.00033056, 0.00033056, 0.00033056, 0.00033056,\n",
       "        0.00033056, 0.00033056, 0.00033056, 0.00033056, 0.00033056,\n",
       "        0.00033056, 0.00033056, 0.00033056, 0.00033056, 0.00033056,\n",
       "        0.00033056, 0.00033056, 0.00033056, 0.00033056, 0.00033056,\n",
       "        0.00033056, 0.00033056, 0.00033056, 0.00033056, 0.00033056,\n",
       "        0.00033056, 0.00033056, 0.00033056, 0.00033056, 0.00033056,\n",
       "        0.00033056, 0.00033056, 0.00033056, 0.00033056, 0.00033056,\n",
       "        0.00033056, 0.00033056, 0.00033056, 0.00033056, 0.00033056,\n",
       "        0.00033056, 0.00033056, 0.00033056, 0.00033056, 0.00033056,\n",
       "        0.00033056, 0.00033056, 0.00033056, 0.00033056, 0.00033056,\n",
       "        0.00033056, 0.00033056, 0.00033056, 0.00033056, 0.00033056,\n",
       "        0.00033056, 0.00033056, 0.00033056, 0.00033056, 0.00033056,\n",
       "        0.00033056, 0.00033056, 0.00033056, 0.00033056, 0.00033056,\n",
       "        0.00033056, 0.00033056, 0.00033056, 0.00033056, 0.00033056,\n",
       "        0.00033056, 0.00033056, 0.00033056, 0.00033056, 0.00033056,\n",
       "        0.00033056, 0.00033056, 0.00033056, 0.00033056, 0.00033056,\n",
       "        0.00033056, 0.00033056, 0.00033056, 0.00033056, 0.00033056,\n",
       "        0.00033056, 0.00033056, 0.00033056, 0.00033056, 0.00033056,\n",
       "        0.00033056, 0.00033056, 0.00033056, 0.00033056, 0.00033056,\n",
       "        0.00033056, 0.00033056, 0.00033056, 0.00033056, 0.00033056,\n",
       "        0.00033056, 0.00033056, 0.00033056, 0.00033056, 0.00033056,\n",
       "        0.00033056, 0.00033056, 0.00033056, 0.00033056, 0.00033056,\n",
       "        0.00033056, 0.00033056, 0.00033056, 0.00033056, 0.00033056,\n",
       "        0.00033056, 0.00033056, 0.00033056, 0.00033056, 0.00033056,\n",
       "        0.00033056, 0.00033056, 0.00033056, 0.00033056, 0.00033056,\n",
       "        0.00033056, 0.00033056, 0.00033056, 0.00033056, 0.00033056,\n",
       "        0.00033056, 0.00033056, 0.00033056, 0.00033056, 0.00033056,\n",
       "        0.00033056, 0.00033056, 0.00033056, 0.00033056, 0.00033056,\n",
       "        0.00033056, 0.00033056, 0.00033056, 0.00033056, 0.00033056,\n",
       "        0.00033056, 0.00033056, 0.00033056, 0.00033056, 0.00033056,\n",
       "        0.00033056, 0.00033056, 0.00033056, 0.00033056, 0.00033056,\n",
       "        0.00033056, 0.00033056, 0.00033056, 0.00033056, 0.00033056,\n",
       "        0.00033056, 0.00033056, 0.00033056, 0.00033056, 0.00033056,\n",
       "        0.00033056, 0.00033056, 0.00033056, 0.00033056, 0.00033056,\n",
       "        0.00033056, 0.00033056, 0.00033056, 0.00033056, 0.00033056,\n",
       "        0.00033056, 0.00033056, 0.00033056, 0.00033056, 0.00033056,\n",
       "        0.00033056, 0.00033056, 0.00033056, 0.00033056, 0.00033056,\n",
       "        0.00033056, 0.00033056, 0.00033056, 0.00033056, 0.00033056,\n",
       "        0.00033056, 0.00033056, 0.00033056, 0.00033056, 0.00033056,\n",
       "        0.00033056, 0.00033056, 0.00033056, 0.00033056, 0.00033056,\n",
       "        0.00033056, 0.00033056, 0.00033056, 0.00033056, 0.00033056,\n",
       "        0.00033056, 0.00033056, 0.00033056, 0.00033056, 0.00033056,\n",
       "        0.00033056, 0.00033056, 0.00033056, 0.00033056, 0.00033056,\n",
       "        0.00033056, 0.00033056, 0.00033056, 0.00033056, 0.00033056],      dtype=float64),\n",
       " Array(1, dtype=int64, weak_type=True),\n",
       " Array([31.6227766], dtype=float64),\n",
       " Array([1.73930032], dtype=float64))"
      ]
     },
     "execution_count": 33,
     "metadata": {},
     "output_type": "execute_result"
    }
   ],
   "source": [
    "X = dist.sample(jax.random.key(0), 1000)\n",
    "Sx = dist.score(X)\n",
    "\n",
    "stein_mat = kernel.stein_matrix(X, X, Sx, Sx, lengthscale=lengthscales[0])\n",
    "\n",
    "b = jnp.ones(1000)\n",
    "pcg(stein_mat, b, wce_tol=1.66237682 * 1.1, M_inv=None)"
   ]
  },
  {
   "cell_type": "code",
   "execution_count": 11,
   "id": "2c149ca6",
   "metadata": {},
   "outputs": [
    {
     "data": {
      "text/plain": [
       "Array([0.05920149], dtype=float64)"
      ]
     },
     "execution_count": 11,
     "metadata": {},
     "output_type": "execute_result"
    }
   ],
   "source": [
    "m_inv = precons[0](jax.random.key(1), stein_mat, nugget=1e-1, m=50)\n",
    "\n",
    "pcg(stein_mat, b, wce_tol=0.74676366 * 1.1, M_inv=m_inv)[3]"
   ]
  },
  {
   "cell_type": "code",
   "execution_count": 34,
   "id": "6a8c6aeb",
   "metadata": {},
   "outputs": [],
   "source": [
    "stein_mat = kernel.stein_matrix(X, X, Sx, Sx, lengthscale = lengthscales[0])\n",
    "out = pcg(stein_mat, b, wce_tol=0., maxiter=10000, M_inv=None, rtol=0., atol=0.)"
   ]
  },
  {
   "cell_type": "code",
   "execution_count": 36,
   "id": "dc985125",
   "metadata": {},
   "outputs": [
    {
     "data": {
      "text/plain": [
       "Array([1.73930032, 1.67140446, 1.66377101, ..., 1.66237682, 1.66237682,\n",
       "       1.66237682], dtype=float64)"
      ]
     },
     "execution_count": 36,
     "metadata": {},
     "output_type": "execute_result"
    }
   ],
   "source": [
    "out[3]"
   ]
  },
  {
   "cell_type": "code",
   "execution_count": null,
   "id": "d5af3348",
   "metadata": {},
   "outputs": [
    {
     "data": {
      "text/plain": [
       "[{'out': {'Nystrom': Array(0., dtype=float64, weak_type=True),\n",
       "   'Nystrom (diagonal sampling)': Array(0., dtype=float64, weak_type=True),\n",
       "   'Nystrom (random projection)': Array(0., dtype=float64, weak_type=True),\n",
       "   'Randomised SVD': Array(0., dtype=float64, weak_type=True),\n",
       "   'FITC': Array(0., dtype=float64, weak_type=True),\n",
       "   'Block Jacobi': Array(0., dtype=float64, weak_type=True)},\n",
       "  'kernel_kwargs': {'lengthscale': Array(0.04978707, dtype=float64)},\n",
       "  'precon_kwargs': {'block_size': 1,\n",
       "   'nugget': Array(1.e-04, dtype=float64),\n",
       "   'm': 50}},\n",
       " {'out': {'Nystrom': Array(0., dtype=float64, weak_type=True),\n",
       "   'Nystrom (diagonal sampling)': Array(0., dtype=float64, weak_type=True),\n",
       "   'Nystrom (random projection)': Array(0., dtype=float64, weak_type=True),\n",
       "   'Randomised SVD': Array(0., dtype=float64, weak_type=True),\n",
       "   'FITC': Array(0., dtype=float64, weak_type=True),\n",
       "   'Block Jacobi': Array(0., dtype=float64, weak_type=True)},\n",
       "  'kernel_kwargs': {'lengthscale': Array(0.04978707, dtype=float64)},\n",
       "  'precon_kwargs': {'block_size': 1,\n",
       "   'nugget': Array(1.e-04, dtype=float64),\n",
       "   'm': 50}}]"
      ]
     },
     "execution_count": 38,
     "metadata": {},
     "output_type": "execute_result"
    }
   ],
   "source": [
    "kernel = Matern52Kernel()\n",
    "precons = [Nystrom(), NystromDiagonal(), NystromRandom(), RandomisedSVD(), FITC(), BlockJacobi()]\n",
    "\n",
    "synth_data_key = jax.random.key(0) # key used to generate synthetic data\n",
    "n_synth_data = 1_000\n",
    "true_beta = jnp.array([1.0, -2.0, 1.0, 4.0])\n",
    "dist = BayesianLogisticRegression.from_synthetic(synth_data_key, n_synth_data, true_beta=true_beta)\n",
    "\n",
    "# Define preconditioner parameters\n",
    "block_sizes = [1] # block sizes to use in BlockJacobi\n",
    "nuggets = jnp.logspace(-4, 4, 1, base=10) # Woodbury inverse nuggets - could use jnp.logspace(-4, 4, 4)\n",
    "m = 50 # target rank of approximation\n",
    "\n",
    "# Define kernel parameters\n",
    "lengthscales = jnp.logspace(-3, 1, 1, base=jnp.e)\n",
    "\n",
    "# Define Experiment Variables\n",
    "num_replicates = 2 # number of repeated experiments \n",
    "n = 1_000 # number of MCMC samples to be generated\n",
    "keys = [jax.random.key(1), jax.random.key(2)] # [key for MCMC sampling, key for preconditioner]\n",
    "\n",
    "def run_experiments(kernel, precons, keys, block_sizes, nuggets, lengthscales, m=m, num_replicates=num_replicates, n=n, wce_mul=1.01):\n",
    "    assert len(block_sizes) == len(nuggets)\n",
    "    \n",
    "    sample_key, precon_key = keys\n",
    "\n",
    "    results = []\n",
    "\n",
    "    for r in range(num_replicates):\n",
    "        sample_key, _ = jax.random.split(sample_key, 2)\n",
    "        dist_sample_r = dist.sample(sample_key, n)\n",
    "        for i in range(len(lengthscales)):\n",
    "            kernel_kwargs = {'lengthscale': lengthscales[i]}\n",
    "            pcg_experiment = PCG_Experiment(dist, dist_sample_r, kernel, precons)\n",
    "            pcg_experiment.set_reference_wce(**kernel_kwargs)\n",
    "\n",
    "            for j in range(len(block_sizes)):\n",
    "                precon_kwargs = {'block_size': block_sizes[i], 'nugget': nuggets[i], 'm': m}\n",
    "                experiment_out = pcg_experiment(precon_key, wce_mul=wce_mul, kernel_kwargs=kernel_kwargs, precon_kwargs=precon_kwargs)\n",
    "                result = {'out': experiment_out, 'kernel_kwargs':kernel_kwargs, 'precon_kwargs': precon_kwargs}\n",
    "                results.append(result)\n",
    "    \n",
    "    return results\n",
    "\n",
    "\n",
    "run_experiments(kernel, precons, keys, block_sizes, nuggets, lengthscales, m=m, num_replicates=2, n=n, wce_mul=1.1)\n",
    "\n",
    "\n",
    "\n"
   ]
  },
  {
   "cell_type": "code",
   "execution_count": null,
   "id": "a27e6fbb",
   "metadata": {},
   "outputs": [],
   "source": [
    "# ── imports ────────────────────────────────────────────────────────────────────\n",
    "from __future__ import annotations\n",
    "import itertools, functools, dataclasses, time\n",
    "import jax, jax.numpy as jnp\n",
    "import pandas as pd\n",
    "import matplotlib.pyplot as plt\n",
    "from tqdm.auto import tqdm\n",
    "\n",
    "# ── your kernels / preconditioners  ───────────────────────────────────────────\n",
    "kernel = Matern52Kernel()\n",
    "precons = [\n",
    "    Nystrom(),\n",
    "    RandomisedSVD(),\n",
    "    BlockJacobi(),\n",
    "]\n",
    "\n",
    "# ── experiment-level constants ────────────────────────────────────────────────\n",
    "synth_key   = jax.random.key(0)\n",
    "mcmc_key0   = jax.random.key(1)\n",
    "precon_key0 = jax.random.key(2)\n",
    "\n",
    "n_synth_data   = 1_000\n",
    "true_beta      = jnp.array([1., -2., 1., 4.])\n",
    "n_mcmc_samples = 1_000\n",
    "num_replicates = 3\n",
    "m_target_rank  = 50\n",
    "wce_mul        = 1.1\n",
    "\n",
    "lengthscales = jnp.logspace(-2, 2, 5, base=jnp.e)\n",
    "block_sizes  = [1, 2, 3, 4, 5]\n",
    "nuggets      = jnp.logspace(-4, 4, 5, base=10)\n",
    "\n",
    "# ── data distribution  ────────────────────────────────────────────────────────\n",
    "dist = BayesianLogisticRegression.from_synthetic(\n",
    "    synth_key, n_synth_data, true_beta=true_beta\n",
    ")\n",
    "\n",
    "# ── helper dataclass to keep rows tidy ────────────────────────────────────────\n",
    "@dataclasses.dataclass\n",
    "class Row:\n",
    "    replicate:    int\n",
    "    pc_name:      str\n",
    "    lengthscale:  float\n",
    "    block_size:   int | None\n",
    "    nugget:       float | None\n",
    "    k_iters:      int\n",
    "    final_res:    float\n",
    "    final_wce:    float\n",
    "\n",
    "# ── run one configuration once ────────────────────────────────────────────────\n",
    "def run_one(\n",
    "    *, replicate:int, pc, lengthscale:float,\n",
    "    block_size:int|None, nugget:float|None,\n",
    "    mcmc_key, precon_key\n",
    ") -> Row:\n",
    "    # 1. draw MCMC samples for this replicate\n",
    "    sample_key, _ = jax.random.split(mcmc_key)\n",
    "    x_sample = dist.sample(sample_key, n_mcmc_samples)\n",
    "\n",
    "    # 2. reference + experiment objects\n",
    "    pcg = PCG_Experiment(dist, x_sample, kernel, [pc])\n",
    "    kernel_kwargs = dict(lengthscale=lengthscale)\n",
    "    pcg.set_reference_wce(**kernel_kwargs)\n",
    "\n",
    "    # 3. kwargs destined for the *single* preconditioner\n",
    "    precon_kwargs = dict(m=m_target_rank)\n",
    "    if isinstance(pc, BlockJacobi):               # block Jacobi only\n",
    "        precon_kwargs[\"block_size\"] = block_size\n",
    "    else:                                         # Nyström-type need nugget\n",
    "        precon_kwargs[\"nugget\"] = nugget\n",
    "\n",
    "    # 4. run\n",
    "    x, k, res_hist, wce_hist = pcg(\n",
    "        precon_key,\n",
    "        wce_mul=wce_mul,\n",
    "        kernel_kwargs=kernel_kwargs,\n",
    "        precon_kwargs=precon_kwargs,\n",
    "    )\n",
    "\n",
    "    return Row(\n",
    "        replicate, pc.name, lengthscale,\n",
    "        block_size, nugget,\n",
    "        k, float(res_hist[-1]), float(wce_hist[-1])\n",
    "    )\n",
    "\n",
    "# ── build the full cartesian product of settings ──────────────────────────────\n",
    "jobs = []\n",
    "for rep in range(num_replicates):\n",
    "    for ls in lengthscales:\n",
    "        for pc in precons:\n",
    "            if isinstance(pc, BlockJacobi):\n",
    "                for bs in block_sizes:\n",
    "                    jobs.append(dict(replicate=rep, pc=pc,\n",
    "                                     lengthscale=float(ls),\n",
    "                                     block_size=bs, nugget=None))\n",
    "            else:\n",
    "                for ng in nuggets:\n",
    "                    jobs.append(dict(replicate=rep, pc=pc,\n",
    "                                     lengthscale=float(ls),\n",
    "                                     block_size=None, nugget=float(ng)))\n",
    "\n",
    "# ── run all jobs and collect rows ─────────────────────────────────────────────\n",
    "rows = []\n",
    "mcmc_key, precon_key = mcmc_key0, precon_key0\n",
    "for j in tqdm(jobs):\n",
    "    mcmc_key,  _     = jax.random.split(mcmc_key)\n",
    "    precon_key, _    = jax.random.split(precon_key)\n",
    "    row = run_one(**j, mcmc_key=mcmc_key, precon_key=precon_key)\n",
    "    rows.append(dataclasses.asdict(row))\n",
    "\n",
    "df = pd.DataFrame(rows)\n",
    "\n",
    "# ── save csv if desired ───────────────────────────────────────────────────────\n",
    "df.to_csv(\"pcg_experiments.csv\", index=False)\n",
    "\n",
    "# ── plotting helper ───────────────────────────────────────────────────────────\n",
    "def plot_metric(metric:str, ylabel:str):\n",
    "    for pc_name, grp in df.groupby(\"pc_name\"):\n",
    "        plt.figure(figsize=(6,4))\n",
    "        for key, sub in grp.groupby([\"block_size\",\"nugget\"]):\n",
    "            label = f\"block={key[0]}\" if key[0] else f\"nugget={key[1]:.1e}\"\n",
    "            piv = (sub.groupby(\"lengthscale\")[metric]\n",
    "                       .mean()\n",
    "                       .reset_index())\n",
    "            plt.plot(piv[\"lengthscale\"], piv[metric], marker=\"o\", label=label)\n",
    "        plt.xscale(\"log\"); plt.xlabel(\"length-scale\")\n",
    "        plt.ylabel(ylabel); plt.title(pc_name); plt.legend()\n",
    "        plt.tight_layout(); plt.show()\n",
    "\n",
    "plot_metric(\"final_res\", r\"final residual $\\Vert r_k\\Vert$\")\n",
    "plot_metric(\"final_wce\", r\"final WCE $\\sigma(w_k)$\")\n"
   ]
  },
  {
   "cell_type": "code",
   "execution_count": null,
   "id": "11742ec7",
   "metadata": {},
   "outputs": [],
   "source": [
    "jnp.logspace()"
   ]
  }
 ],
 "metadata": {
  "kernelspec": {
   "display_name": ".jax",
   "language": "python",
   "name": "python3"
  },
  "language_info": {
   "codemirror_mode": {
    "name": "ipython",
    "version": 3
   },
   "file_extension": ".py",
   "mimetype": "text/x-python",
   "name": "python",
   "nbconvert_exporter": "python",
   "pygments_lexer": "ipython3",
   "version": "3.12.3"
  }
 },
 "nbformat": 4,
 "nbformat_minor": 5
}
