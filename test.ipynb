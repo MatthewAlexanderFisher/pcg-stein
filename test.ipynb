{
 "cells": [
  {
   "cell_type": "markdown",
   "id": "29323b80",
   "metadata": {},
   "source": [
    "# Experiments"
   ]
  },
  {
   "cell_type": "code",
   "execution_count": 3,
   "id": "8fdcdb07",
   "metadata": {},
   "outputs": [],
   "source": [
    "import jax, jax.numpy as jnp\n",
    "import numpy as np\n",
    "import matplotlib.pyplot as plt\n",
    "import dill\n",
    "import tqdm\n",
    "\n",
    "from pcg_stein.distribution import BayesianLogisticRegression\n",
    "from pcg_stein.kernel import Matern52Kernel, Matern72Kernel, IMQKernel, GaussianKernel\n",
    "from pcg_stein.pcg import pcg\n",
    "from pcg_stein.precon import Nystrom, NystromDiagonal, NystromRandom, RandomisedSVD, FITC, BlockJacobi\n",
    "from pcg_stein.util import PCG_Experiment\n",
    "\n",
    "jax.config.update(\"jax_enable_x64\", True) # double precision\n"
   ]
  },
  {
   "cell_type": "markdown",
   "id": "3eb7cab9",
   "metadata": {},
   "source": [
    "## Setup Experiments\n",
    "\n",
    "### Assumptions\n",
    "- We fix one synthetic experiment.\n",
    "- Randomness over the MCMC samples from the posterior and the random preconditioner methods.\n",
    "\n",
    "\n",
    "### Parameter ranges\n",
    "\n",
    "- lengthscales are on base e scale? `jnp.logspace(-3, 1, 5, base = jnp.e)` \n",
    "- nuggets are on base 10 scale? `jnp.logspace(-4, 4, 5)`"
   ]
  },
  {
   "cell_type": "code",
   "execution_count": 4,
   "id": "c7ca6f51",
   "metadata": {},
   "outputs": [
    {
     "data": {
      "text/plain": [
       "{'Matern52': pcg_stein.kernel.Matern52Kernel,\n",
       " 'Matern72': pcg_stein.kernel.Matern72Kernel,\n",
       " 'Gaussian': pcg_stein.kernel.GaussianKernel,\n",
       " 'IMQ': pcg_stein.kernel.IMQKernel}"
      ]
     },
     "execution_count": 4,
     "metadata": {},
     "output_type": "execute_result"
    }
   ],
   "source": [
    "from pcg_stein.registry import KERNEL_REGISTRY, PRECON_REGISTRY\n",
    "\n",
    "KERNEL_REGISTRY"
   ]
  },
  {
   "cell_type": "code",
   "execution_count": 5,
   "id": "3a509773",
   "metadata": {},
   "outputs": [
    {
     "data": {
      "text/plain": [
       "{'Nystrom': pcg_stein.precon.Nystrom,\n",
       " 'NystromRandom': pcg_stein.precon.NystromRandom,\n",
       " 'NystromDiagonal': pcg_stein.precon.NystromDiagonal,\n",
       " 'RandomisedSVD': pcg_stein.precon.RandomisedSVD,\n",
       " 'FITC': pcg_stein.precon.FITC,\n",
       " 'BlockJacobi': pcg_stein.precon.BlockJacobi}"
      ]
     },
     "execution_count": 5,
     "metadata": {},
     "output_type": "execute_result"
    }
   ],
   "source": [
    "PRECON_REGISTRY"
   ]
  },
  {
   "cell_type": "code",
   "execution_count": null,
   "id": "c3d91e0a",
   "metadata": {},
   "outputs": [
    {
     "data": {
      "text/plain": [
       "(1000, 1000)"
      ]
     },
     "execution_count": 39,
     "metadata": {},
     "output_type": "execute_result"
    }
   ],
   "source": [
    "kernel = Matern52Kernel()\n",
    "precons = [Nystrom(), NystromDiagonal(), NystromRandom(), RandomisedSVD(), FITC(), BlockJacobi()]\n",
    "\n",
    "synth_data_key = jax.random.key(0) # key used to generate synthetic data\n",
    "n_synth_data = 1_000\n",
    "true_beta = jnp.array([1.0, -2.0, 1.0, 4.0])\n",
    "dist = BayesianLogisticRegression.from_synthetic(synth_data_key, n_synth_data, true_beta=true_beta)\n",
    "X = dist.sample(jax.random.key(0), 1000)\n",
    "Sx = dist.score(X)\n",
    "\n",
    "stein_mat = kernel.stein_matrix(X, X, Sx, Sx)\n",
    "b = jnp.ones(1000)\n",
    "\n",
    "key = jax.random.key(1)\n",
    "precons[0](key, stein_mat, nugget=1e-3, block_size=5, m=50).shape"
   ]
  },
  {
   "cell_type": "code",
   "execution_count": null,
   "id": "f8f3dbea",
   "metadata": {},
   "outputs": [
    {
     "data": {
      "text/plain": [
       "{'Nystrom': Array(0., dtype=float64, weak_type=True),\n",
       " 'Nystrom (diagonal sampling)': Array(0., dtype=float64, weak_type=True),\n",
       " 'Nystrom (random projection)': Array(0., dtype=float64, weak_type=True),\n",
       " 'Randomised SVD': Array(0.28768207, dtype=float64, weak_type=True),\n",
       " 'FITC': Array(0., dtype=float64, weak_type=True),\n",
       " 'Block Jacobi': Array(0., dtype=float64, weak_type=True)}"
      ]
     },
     "execution_count": 6,
     "metadata": {},
     "output_type": "execute_result"
    }
   ],
   "source": [
    "key = jax.random.key(1)\n",
    "\n",
    "pcg_exp = PCG_Experiment(dist, X, kernel, precons)\n",
    "\n",
    "\n",
    "\n",
    "pcg_exp(key, precon_kwargs={'m': 50, 'nugget':1e-1, 'block_size': 5}, kernel_kwargs={'lengthscale': 1e-1})"
   ]
  },
  {
   "cell_type": "code",
   "execution_count": 77,
   "id": "ba3347fc",
   "metadata": {},
   "outputs": [
    {
     "name": "stdout",
     "output_type": "stream",
     "text": [
      "0.018074998514670412\n",
      "cg iters: 458\n",
      "pcg iters: 65\n"
     ]
    }
   ],
   "source": [
    "ell = 1.\n",
    "stein_mat = kernel.stein_matrix(X, X, Sx, Sx, lengthscale=ell)\n",
    "pcg_exp.set_reference_wce(lengthscale=ell)\n",
    "wce = pcg_exp.wce\n",
    "print(wce)\n",
    "\n",
    "out_cg = pcg(stein_mat, b, wce_tol = wce * 1.01, atol=0., rtol=0., M_inv=None)\n",
    "\n",
    "m_inv = precons[2](jax.random.key(1), stein_mat, nugget=1e-1, block_size=5, m=50)\n",
    "\n",
    "out_pcg = pcg(stein_mat, b, wce_tol = wce * 1.01, atol=0., rtol=0., M_inv=m_inv)\n",
    "\n",
    "print('cg iters:', out_cg[1])\n",
    "print('pcg iters:' ,out_pcg[1])"
   ]
  },
  {
   "cell_type": "code",
   "execution_count": 78,
   "id": "603675af",
   "metadata": {},
   "outputs": [],
   "source": [
    "out_cg = pcg(stein_mat, b, maxiter=1000, wce_tol=0., atol=0., rtol=0., M_inv=None)\n",
    "out_pcg = pcg(stein_mat, b, maxiter=1000, wce_tol=0., atol=0., rtol=0., M_inv=m_inv)"
   ]
  },
  {
   "cell_type": "code",
   "execution_count": 79,
   "id": "be643d24",
   "metadata": {},
   "outputs": [
    {
     "data": {
      "text/plain": [
       "<matplotlib.legend.Legend at 0x7fe7869150d0>"
      ]
     },
     "execution_count": 79,
     "metadata": {},
     "output_type": "execute_result"
    },
    {
     "data": {
      "image/png": "[encoded data removed]",
      "text/plain": [
       "<Figure size 640x480 with 1 Axes>"
      ]
     },
     "metadata": {},
     "output_type": "display_data"
    }
   ],
   "source": [
    "plt.plot(out_cg[3], label='CG')\n",
    "plt.plot(out_pcg[3], label='PCG')\n",
    "plt.yscale('log')\n",
    "plt.legend()"
   ]
  },
  {
   "cell_type": "code",
   "execution_count": 53,
   "id": "b272d639",
   "metadata": {},
   "outputs": [
    {
     "data": {
      "text/plain": [
       "Array(28, dtype=int64, weak_type=True)"
      ]
     },
     "execution_count": 53,
     "metadata": {},
     "output_type": "execute_result"
    }
   ],
   "source": [
    "out_pcg[1]"
   ]
  },
  {
   "cell_type": "code",
   "execution_count": null,
   "id": "c78471ca",
   "metadata": {},
   "outputs": [],
   "source": [
    "pcg(stein_mat, b, wce_tol=0.74676366 * 1.1, M_inv=None)"
   ]
  },
  {
   "cell_type": "code",
   "execution_count": 31,
   "id": "e6241518",
   "metadata": {},
   "outputs": [],
   "source": [
    "pcg_exp.set_reference_wce(lengthscale=lengthscales[0])"
   ]
  },
  {
   "cell_type": "code",
   "execution_count": 32,
   "id": "ebc371df",
   "metadata": {},
   "outputs": [
    {
     "data": {
      "text/plain": [
       "Array(1.66237682, dtype=float64)"
      ]
     },
     "execution_count": 32,
     "metadata": {},
     "output_type": "execute_result"
    }
   ],
   "source": [
    "pcg_exp.wce"
   ]
  },
  {
   "cell_type": "code",
   "execution_count": 7,
   "id": "6455ab44",
   "metadata": {},
   "outputs": [
    {
     "data": {
      "text/plain": [
       "Array(0.74676366, dtype=float64)"
      ]
     },
     "execution_count": 7,
     "metadata": {},
     "output_type": "execute_result"
    }
   ],
   "source": [
    "pcg_exp.wce"
   ]
  },
  {
   "cell_type": "code",
   "execution_count": 29,
   "id": "8ec27c55",
   "metadata": {},
   "outputs": [
    {
     "data": {
      "text/plain": [
       "Array(0.04978707, dtype=float64)"
      ]
     },
     "execution_count": 29,
     "metadata": {},
     "output_type": "execute_result"
    }
   ],
   "source": [
    "lengthscales[0]"
   ]
  },
  {
   "cell_type": "code",
   "execution_count": 33,
   "id": "abdd7f5e",
   "metadata": {},
   "outputs": [
    {
     "data": {
      "text/plain": [
       "(Array([0.00033056, 0.00033056, 0.00033056, 0.00033056, 0.00033056,\n",
       "        0.00033056, 0.00033056, 0.00033056, 0.00033056, 0.00033056,\n",
       "        0.00033056, 0.00033056, 0.00033056, 0.00033056, 0.00033056,\n",
       "        0.00033056, 0.00033056, 0.00033056, 0.00033056, 0.00033056,\n",
       "        0.00033056, 0.00033056, 0.00033056, 0.00033056, 0.00033056,\n",
       "        0.00033056, 0.00033056, 0.00033056, 0.00033056, 0.00033056,\n",
       "        0.00033056, 0.00033056, 0.00033056, 0.00033056, 0.00033056,\n",
       "        0.00033056, 0.00033056, 0.00033056, 0.00033056, 0.00033056,\n",
       "        0.00033056, 0.00033056, 0.00033056, 0.00033056, 0.00033056,\n",
       "        0.00033056, 0.00033056, 0.00033056, 0.00033056, 0.00033056,\n",
       "        0.00033056, 0.00033056, 0.00033056, 0.00033056, 0.00033056,\n",
       "        0.00033056, 0.00033056, 0.00033056, 0.00033056, 0.00033056,\n",
       "        0.00033056, 0.00033056, 0.00033056, 0.00033056, 0.00033056,\n",
       "        0.00033056, 0.00033056, 0.00033056, 0.00033056, 0.00033056,\n",
       "        0.00033056, 0.00033056, 0.00033056, 0.00033056, 0.00033056,\n",
       "        0.00033056, 0.00033056, 0.00033056, 0.00033056, 0.00033056,\n",
       "        0.00033056, 0.00033056, 0.00033056, 0.00033056, 0.00033056,\n",
       "        0.00033056, 0.00033056, 0.00033056, 0.00033056, 0.00033056,\n",
       "        0.00033056, 0.00033056, 0.00033056, 0.00033056, 0.00033056,\n",
       "        0.00033056, 0.00033056, 0.00033056, 0.00033056, 0.00033056,\n",
       "        0.00033056, 0.00033056, 0.00033056, 0.00033056, 0.00033056,\n",
       "        0.00033056, 0.00033056, 0.00033056, 0.00033056, 0.00033056,\n",
       "        0.00033056, 0.00033056, 0.00033056, 0.00033056, 0.00033056,\n",
       "        0.00033056, 0.00033056, 0.00033056, 0.00033056, 0.00033056,\n",
       "        0.00033056, 0.00033056, 0.00033056, 0.00033056, 0.00033056,\n",
       "        0.00033056, 0.00033056, 0.00033056, 0.00033056, 0.00033056,\n",
       "        0.00033056, 0.00033056, 0.00033056, 0.00033056, 0.00033056,\n",
       "        0.00033056, 0.00033056, 0.00033056, 0.00033056, 0.00033056,\n",
       "        0.00033056, 0.00033056, 0.00033056, 0.00033056, 0.00033056,\n",
       "        0.00033056, 0.00033056, 0.00033056, 0.00033056, 0.00033056,\n",
       "        0.00033056, 0.00033056, 0.00033056, 0.00033056, 0.00033056,\n",
       "        0.00033056, 0.00033056, 0.00033056, 0.00033056, 0.00033056,\n",
       "        0.00033056, 0.00033056, 0.00033056, 0.00033056, 0.00033056,\n",
       "        0.00033056, 0.00033056, 0.00033056, 0.00033056, 0.00033056,\n",
       "        0.00033056, 0.00033056, 0.00033056, 0.00033056, 0.00033056,\n",
       "        0.00033056, 0.00033056, 0.00033056, 0.00033056, 0.00033056,\n",
       "        0.00033056, 0.00033056, 0.00033056, 0.00033056, 0.00033056,\n",
       "        0.00033056, 0.00033056, 0.00033056, 0.00033056, 0.00033056,\n",
       "        0.00033056, 0.00033056, 0.00033056, 0.00033056, 0.00033056,\n",
       "        0.00033056, 0.00033056, 0.00033056, 0.00033056, 0.00033056,\n",
       "        0.00033056, 0.00033056, 0.00033056, 0.00033056, 0.00033056,\n",
       "        0.00033056, 0.00033056, 0.00033056, 0.00033056, 0.00033056,\n",
       "        0.00033056, 0.00033056, 0.00033056, 0.00033056, 0.00033056,\n",
       "        0.00033056, 0.00033056, 0.00033056, 0.00033056, 0.00033056,\n",
       "        0.00033056, 0.00033056, 0.00033056, 0.00033056, 0.00033056,\n",
       "        0.00033056, 0.00033056, 0.00033056, 0.00033056, 0.00033056,\n",
       "        0.00033056, 0.00033056, 0.00033056, 0.00033056, 0.00033056,\n",
       "        0.00033056, 0.00033056, 0.00033056, 0.00033056, 0.00033056,\n",
       "        0.00033056, 0.00033056, 0.00033056, 0.00033056, 0.00033056,\n",
       "        0.00033056, 0.00033056, 0.00033056, 0.00033056, 0.00033056,\n",
       "        0.00033056, 0.00033056, 0.00033056, 0.00033056, 0.00033056,\n",
       "        0.00033056, 0.00033056, 0.00033056, 0.00033056, 0.00033056,\n",
       "        0.00033056, 0.00033056, 0.00033056, 0.00033056, 0.00033056,\n",
       "        0.00033056, 0.00033056, 0.00033056, 0.00033056, 0.00033056,\n",
       "        0.00033056, 0.00033056, 0.00033056, 0.00033056, 0.00033056,\n",
       "        0.00033056, 0.00033056, 0.00033056, 0.00033056, 0.00033056,\n",
       "        0.00033056, 0.00033056, 0.00033056, 0.00033056, 0.00033056,\n",
       "        0.00033056, 0.00033056, 0.00033056, 0.00033056, 0.00033056,\n",
       "        0.00033056, 0.00033056, 0.00033056, 0.00033056, 0.00033056,\n",
       "        0.00033056, 0.00033056, 0.00033056, 0.00033056, 0.00033056,\n",
       "        0.00033056, 0.00033056, 0.00033056, 0.00033056, 0.00033056,\n",
       "        0.00033056, 0.00033056, 0.00033056, 0.00033056, 0.00033056,\n",
       "        0.00033056, 0.00033056, 0.00033056, 0.00033056, 0.00033056,\n",
       "        0.00033056, 0.00033056, 0.00033056, 0.00033056, 0.00033056,\n",
       "        0.00033056, 0.00033056, 0.00033056, 0.00033056, 0.00033056,\n",
       "        0.00033056, 0.00033056, 0.00033056, 0.00033056, 0.00033056,\n",
       "        0.00033056, 0.00033056, 0.00033056, 0.00033056, 0.00033056,\n",
       "        0.00033056, 0.00033056, 0.00033056, 0.00033056, 0.00033056,\n",
       "        0.00033056, 0.00033056, 0.00033056, 0.00033056, 0.00033056,\n",
       "        0.00033056, 0.00033056, 0.00033056, 0.00033056, 0.00033056,\n",
       "        0.00033056, 0.00033056, 0.00033056, 0.00033056, 0.00033056,\n",
       "        0.00033056, 0.00033056, 0.00033056, 0.00033056, 0.00033056,\n",
       "        0.00033056, 0.00033056, 0.00033056, 0.00033056, 0.00033056,\n",
       "        0.00033056, 0.00033056, 0.00033056, 0.00033056, 0.00033056,\n",
       "        0.00033056, 0.00033056, 0.00033056, 0.00033056, 0.00033056,\n",
       "        0.00033056, 0.00033056, 0.00033056, 0.00033056, 0.00033056,\n",
       "        0.00033056, 0.00033056, 0.00033056, 0.00033056, 0.00033056,\n",
       "        0.00033056, 0.00033056, 0.00033056, 0.00033056, 0.00033056,\n",
       "        0.00033056, 0.00033056, 0.00033056, 0.00033056, 0.00033056,\n",
       "        0.00033056, 0.00033056, 0.00033056, 0.00033056, 0.00033056,\n",
       "        0.00033056, 0.00033056, 0.00033056, 0.00033056, 0.00033056,\n",
       "        0.00033056, 0.00033056, 0.00033056, 0.00033056, 0.00033056,\n",
       "        0.00033056, 0.00033056, 0.00033056, 0.00033056, 0.00033056,\n",
       "        0.00033056, 0.00033056, 0.00033056, 0.00033056, 0.00033056,\n",
       "        0.00033056, 0.00033056, 0.00033056, 0.00033056, 0.00033056,\n",
       "        0.00033056, 0.00033056, 0.00033056, 0.00033056, 0.00033056,\n",
       "        0.00033056, 0.00033056, 0.00033056, 0.00033056, 0.00033056,\n",
       "        0.00033056, 0.00033056, 0.00033056, 0.00033056, 0.00033056,\n",
       "        0.00033056, 0.00033056, 0.00033056, 0.00033056, 0.00033056,\n",
       "        0.00033056, 0.00033056, 0.00033056, 0.00033056, 0.00033056,\n",
       "        0.00033056, 0.00033056, 0.00033056, 0.00033056, 0.00033056,\n",
       "        0.00033056, 0.00033056, 0.00033056, 0.00033056, 0.00033056,\n",
       "        0.00033056, 0.00033056, 0.00033056, 0.00033056, 0.00033056,\n",
       "        0.00033056, 0.00033056, 0.00033056, 0.00033056, 0.00033056,\n",
       "        0.00033056, 0.00033056, 0.00033056, 0.00033056, 0.00033056,\n",
       "        0.00033056, 0.00033056, 0.00033056, 0.00033056, 0.00033056,\n",
       "        0.00033056, 0.00033056, 0.00033056, 0.00033056, 0.00033056,\n",
       "        0.00033056, 0.00033056, 0.00033056, 0.00033056, 0.00033056,\n",
       "        0.00033056, 0.00033056, 0.00033056, 0.00033056, 0.00033056,\n",
       "        0.00033056, 0.00033056, 0.00033056, 0.00033056, 0.00033056,\n",
       "        0.00033056, 0.00033056, 0.00033056, 0.00033056, 0.00033056,\n",
       "        0.00033056, 0.00033056, 0.00033056, 0.00033056, 0.00033056,\n",
       "        0.00033056, 0.00033056, 0.00033056, 0.00033056, 0.00033056,\n",
       "        0.00033056, 0.00033056, 0.00033056, 0.00033056, 0.00033056,\n",
       "        0.00033056, 0.00033056, 0.00033056, 0.00033056, 0.00033056,\n",
       "        0.00033056, 0.00033056, 0.00033056, 0.00033056, 0.00033056,\n",
       "        0.00033056, 0.00033056, 0.00033056, 0.00033056, 0.00033056,\n",
       "        0.00033056, 0.00033056, 0.00033056, 0.00033056, 0.00033056,\n",
       "        0.00033056, 0.00033056, 0.00033056, 0.00033056, 0.00033056,\n",
       "        0.00033056, 0.00033056, 0.00033056, 0.00033056, 0.00033056,\n",
       "        0.00033056, 0.00033056, 0.00033056, 0.00033056, 0.00033056,\n",
       "        0.00033056, 0.00033056, 0.00033056, 0.00033056, 0.00033056,\n",
       "        0.00033056, 0.00033056, 0.00033056, 0.00033056, 0.00033056,\n",
       "        0.00033056, 0.00033056, 0.00033056, 0.00033056, 0.00033056,\n",
       "        0.00033056, 0.00033056, 0.00033056, 0.00033056, 0.00033056,\n",
       "        0.00033056, 0.00033056, 0.00033056, 0.00033056, 0.00033056,\n",
       "        0.00033056, 0.00033056, 0.00033056, 0.00033056, 0.00033056,\n",
       "        0.00033056, 0.00033056, 0.00033056, 0.00033056, 0.00033056,\n",
       "        0.00033056, 0.00033056, 0.00033056, 0.00033056, 0.00033056,\n",
       "        0.00033056, 0.00033056, 0.00033056, 0.00033056, 0.00033056,\n",
       "        0.00033056, 0.00033056, 0.00033056, 0.00033056, 0.00033056,\n",
       "        0.00033056, 0.00033056, 0.00033056, 0.00033056, 0.00033056,\n",
       "        0.00033056, 0.00033056, 0.00033056, 0.00033056, 0.00033056,\n",
       "        0.00033056, 0.00033056, 0.00033056, 0.00033056, 0.00033056,\n",
       "        0.00033056, 0.00033056, 0.00033056, 0.00033056, 0.00033056,\n",
       "        0.00033056, 0.00033056, 0.00033056, 0.00033056, 0.00033056,\n",
       "        0.00033056, 0.00033056, 0.00033056, 0.00033056, 0.00033056,\n",
       "        0.00033056, 0.00033056, 0.00033056, 0.00033056, 0.00033056,\n",
       "        0.00033056, 0.00033056, 0.00033056, 0.00033056, 0.00033056,\n",
       "        0.00033056, 0.00033056, 0.00033056, 0.00033056, 0.00033056,\n",
       "        0.00033056, 0.00033056, 0.00033056, 0.00033056, 0.00033056,\n",
       "        0.00033056, 0.00033056, 0.00033056, 0.00033056, 0.00033056,\n",
       "        0.00033056, 0.00033056, 0.00033056, 0.00033056, 0.00033056,\n",
       "        0.00033056, 0.00033056, 0.00033056, 0.00033056, 0.00033056,\n",
       "        0.00033056, 0.00033056, 0.00033056, 0.00033056, 0.00033056,\n",
       "        0.00033056, 0.00033056, 0.00033056, 0.00033056, 0.00033056,\n",
       "        0.00033056, 0.00033056, 0.00033056, 0.00033056, 0.00033056,\n",
       "        0.00033056, 0.00033056, 0.00033056, 0.00033056, 0.00033056,\n",
       "        0.00033056, 0.00033056, 0.00033056, 0.00033056, 0.00033056,\n",
       "        0.00033056, 0.00033056, 0.00033056, 0.00033056, 0.00033056,\n",
       "        0.00033056, 0.00033056, 0.00033056, 0.00033056, 0.00033056,\n",
       "        0.00033056, 0.00033056, 0.00033056, 0.00033056, 0.00033056,\n",
       "        0.00033056, 0.00033056, 0.00033056, 0.00033056, 0.00033056,\n",
       "        0.00033056, 0.00033056, 0.00033056, 0.00033056, 0.00033056,\n",
       "        0.00033056, 0.00033056, 0.00033056, 0.00033056, 0.00033056,\n",
       "        0.00033056, 0.00033056, 0.00033056, 0.00033056, 0.00033056,\n",
       "        0.00033056, 0.00033056, 0.00033056, 0.00033056, 0.00033056,\n",
       "        0.00033056, 0.00033056, 0.00033056, 0.00033056, 0.00033056,\n",
       "        0.00033056, 0.00033056, 0.00033056, 0.00033056, 0.00033056,\n",
       "        0.00033056, 0.00033056, 0.00033056, 0.00033056, 0.00033056,\n",
       "        0.00033056, 0.00033056, 0.00033056, 0.00033056, 0.00033056,\n",
       "        0.00033056, 0.00033056, 0.00033056, 0.00033056, 0.00033056,\n",
       "        0.00033056, 0.00033056, 0.00033056, 0.00033056, 0.00033056,\n",
       "        0.00033056, 0.00033056, 0.00033056, 0.00033056, 0.00033056,\n",
       "        0.00033056, 0.00033056, 0.00033056, 0.00033056, 0.00033056,\n",
       "        0.00033056, 0.00033056, 0.00033056, 0.00033056, 0.00033056,\n",
       "        0.00033056, 0.00033056, 0.00033056, 0.00033056, 0.00033056,\n",
       "        0.00033056, 0.00033056, 0.00033056, 0.00033056, 0.00033056,\n",
       "        0.00033056, 0.00033056, 0.00033056, 0.00033056, 0.00033056,\n",
       "        0.00033056, 0.00033056, 0.00033056, 0.00033056, 0.00033056,\n",
       "        0.00033056, 0.00033056, 0.00033056, 0.00033056, 0.00033056,\n",
       "        0.00033056, 0.00033056, 0.00033056, 0.00033056, 0.00033056,\n",
       "        0.00033056, 0.00033056, 0.00033056, 0.00033056, 0.00033056,\n",
       "        0.00033056, 0.00033056, 0.00033056, 0.00033056, 0.00033056,\n",
       "        0.00033056, 0.00033056, 0.00033056, 0.00033056, 0.00033056,\n",
       "        0.00033056, 0.00033056, 0.00033056, 0.00033056, 0.00033056,\n",
       "        0.00033056, 0.00033056, 0.00033056, 0.00033056, 0.00033056,\n",
       "        0.00033056, 0.00033056, 0.00033056, 0.00033056, 0.00033056,\n",
       "        0.00033056, 0.00033056, 0.00033056, 0.00033056, 0.00033056,\n",
       "        0.00033056, 0.00033056, 0.00033056, 0.00033056, 0.00033056,\n",
       "        0.00033056, 0.00033056, 0.00033056, 0.00033056, 0.00033056,\n",
       "        0.00033056, 0.00033056, 0.00033056, 0.00033056, 0.00033056,\n",
       "        0.00033056, 0.00033056, 0.00033056, 0.00033056, 0.00033056,\n",
       "        0.00033056, 0.00033056, 0.00033056, 0.00033056, 0.00033056,\n",
       "        0.00033056, 0.00033056, 0.00033056, 0.00033056, 0.00033056,\n",
       "        0.00033056, 0.00033056, 0.00033056, 0.00033056, 0.00033056,\n",
       "        0.00033056, 0.00033056, 0.00033056, 0.00033056, 0.00033056,\n",
       "        0.00033056, 0.00033056, 0.00033056, 0.00033056, 0.00033056,\n",
       "        0.00033056, 0.00033056, 0.00033056, 0.00033056, 0.00033056,\n",
       "        0.00033056, 0.00033056, 0.00033056, 0.00033056, 0.00033056,\n",
       "        0.00033056, 0.00033056, 0.00033056, 0.00033056, 0.00033056,\n",
       "        0.00033056, 0.00033056, 0.00033056, 0.00033056, 0.00033056,\n",
       "        0.00033056, 0.00033056, 0.00033056, 0.00033056, 0.00033056,\n",
       "        0.00033056, 0.00033056, 0.00033056, 0.00033056, 0.00033056,\n",
       "        0.00033056, 0.00033056, 0.00033056, 0.00033056, 0.00033056,\n",
       "        0.00033056, 0.00033056, 0.00033056, 0.00033056, 0.00033056,\n",
       "        0.00033056, 0.00033056, 0.00033056, 0.00033056, 0.00033056,\n",
       "        0.00033056, 0.00033056, 0.00033056, 0.00033056, 0.00033056,\n",
       "        0.00033056, 0.00033056, 0.00033056, 0.00033056, 0.00033056,\n",
       "        0.00033056, 0.00033056, 0.00033056, 0.00033056, 0.00033056,\n",
       "        0.00033056, 0.00033056, 0.00033056, 0.00033056, 0.00033056,\n",
       "        0.00033056, 0.00033056, 0.00033056, 0.00033056, 0.00033056,\n",
       "        0.00033056, 0.00033056, 0.00033056, 0.00033056, 0.00033056,\n",
       "        0.00033056, 0.00033056, 0.00033056, 0.00033056, 0.00033056,\n",
       "        0.00033056, 0.00033056, 0.00033056, 0.00033056, 0.00033056,\n",
       "        0.00033056, 0.00033056, 0.00033056, 0.00033056, 0.00033056,\n",
       "        0.00033056, 0.00033056, 0.00033056, 0.00033056, 0.00033056,\n",
       "        0.00033056, 0.00033056, 0.00033056, 0.00033056, 0.00033056,\n",
       "        0.00033056, 0.00033056, 0.00033056, 0.00033056, 0.00033056,\n",
       "        0.00033056, 0.00033056, 0.00033056, 0.00033056, 0.00033056],      dtype=float64),\n",
       " Array(1, dtype=int64, weak_type=True),\n",
       " Array([31.6227766], dtype=float64),\n",
       " Array([1.73930032], dtype=float64))"
      ]
     },
     "execution_count": 33,
     "metadata": {},
     "output_type": "execute_result"
    }
   ],
   "source": [
    "X = dist.sample(jax.random.key(0), 1000)\n",
    "Sx = dist.score(X)\n",
    "\n",
    "stein_mat = kernel.stein_matrix(X, X, Sx, Sx, lengthscale=lengthscales[0])\n",
    "\n",
    "b = jnp.ones(1000)\n",
    "pcg(stein_mat, b, wce_tol=1.66237682 * 1.1, M_inv=None)"
   ]
  },
  {
   "cell_type": "code",
   "execution_count": 11,
   "id": "2c149ca6",
   "metadata": {},
   "outputs": [
    {
     "data": {
      "text/plain": [
       "Array([0.05920149], dtype=float64)"
      ]
     },
     "execution_count": 11,
     "metadata": {},
     "output_type": "execute_result"
    }
   ],
   "source": [
    "m_inv = precons[0](jax.random.key(1), stein_mat, nugget=1e-1, m=50)\n",
    "\n",
    "pcg(stein_mat, b, wce_tol=0.74676366 * 1.1, M_inv=m_inv)[3]"
   ]
  },
  {
   "cell_type": "code",
   "execution_count": 34,
   "id": "6a8c6aeb",
   "metadata": {},
   "outputs": [],
   "source": [
    "stein_mat = kernel.stein_matrix(X, X, Sx, Sx, lengthscale = lengthscales[0])\n",
    "out = pcg(stein_mat, b, wce_tol=0., maxiter=10000, M_inv=None, rtol=0., atol=0.)"
   ]
  },
  {
   "cell_type": "code",
   "execution_count": 36,
   "id": "dc985125",
   "metadata": {},
   "outputs": [
    {
     "data": {
      "text/plain": [
       "Array([1.73930032, 1.67140446, 1.66377101, ..., 1.66237682, 1.66237682,\n",
       "       1.66237682], dtype=float64)"
      ]
     },
     "execution_count": 36,
     "metadata": {},
     "output_type": "execute_result"
    }
   ],
   "source": [
    "out[3]"
   ]
  },
  {
   "cell_type": "code",
   "execution_count": 35,
   "id": "877d75de",
   "metadata": {},
   "outputs": [
    {
     "data": {
      "image/png": "[encoded data removed]",
      "text/plain": [
       "<Figure size 640x480 with 1 Axes>"
      ]
     },
     "metadata": {},
     "output_type": "display_data"
    }
   ],
   "source": [
    "plt.plot(out[3])\n",
    "plt.yscale('log')"
   ]
  },
  {
   "cell_type": "code",
   "execution_count": null,
   "id": "55327bde",
   "metadata": {},
   "outputs": [],
   "source": []
  },
  {
   "cell_type": "code",
   "execution_count": null,
   "id": "d5af3348",
   "metadata": {},
   "outputs": [
    {
     "data": {
      "text/plain": [
       "[{'out': {'Nystrom': Array(0., dtype=float64, weak_type=True),\n",
       "   'Nystrom (diagonal sampling)': Array(0., dtype=float64, weak_type=True),\n",
       "   'Nystrom (random projection)': Array(0., dtype=float64, weak_type=True),\n",
       "   'Randomised SVD': Array(0., dtype=float64, weak_type=True),\n",
       "   'FITC': Array(0., dtype=float64, weak_type=True),\n",
       "   'Block Jacobi': Array(0., dtype=float64, weak_type=True)},\n",
       "  'kernel_kwargs': {'lengthscale': Array(0.04978707, dtype=float64)},\n",
       "  'precon_kwargs': {'block_size': 1,\n",
       "   'nugget': Array(1.e-04, dtype=float64),\n",
       "   'm': 50}},\n",
       " {'out': {'Nystrom': Array(0., dtype=float64, weak_type=True),\n",
       "   'Nystrom (diagonal sampling)': Array(0., dtype=float64, weak_type=True),\n",
       "   'Nystrom (random projection)': Array(0., dtype=float64, weak_type=True),\n",
       "   'Randomised SVD': Array(0., dtype=float64, weak_type=True),\n",
       "   'FITC': Array(0., dtype=float64, weak_type=True),\n",
       "   'Block Jacobi': Array(0., dtype=float64, weak_type=True)},\n",
       "  'kernel_kwargs': {'lengthscale': Array(0.04978707, dtype=float64)},\n",
       "  'precon_kwargs': {'block_size': 1,\n",
       "   'nugget': Array(1.e-04, dtype=float64),\n",
       "   'm': 50}}]"
      ]
     },
     "execution_count": 38,
     "metadata": {},
     "output_type": "execute_result"
    }
   ],
   "source": [
    "kernel = Matern52Kernel()\n",
    "precons = [NystromWoodbury(), NystromRandomDiagonalWoodbury(), NystromRandomWoodbury(), RandomisedSVD(), FITC(), BlockJacobi()]\n",
    "\n",
    "synth_data_key = jax.random.key(0) # key used to generate synthetic data\n",
    "n_synth_data = 1_000\n",
    "true_beta = jnp.array([1.0, -2.0, 1.0, 4.0])\n",
    "dist = BayesianLogisticRegression.from_synthetic(synth_data_key, n_synth_data, true_beta=true_beta)\n",
    "\n",
    "# Define preconditioner parameters\n",
    "block_sizes = [1] # block sizes to use in BlockJacobi\n",
    "nuggets = jnp.logspace(-4, 4, 1, base=10) # Woodbury inverse nuggets - could use jnp.logspace(-4, 4, 4)\n",
    "m = 50 # target rank of approximation\n",
    "\n",
    "# Define kernel parameters\n",
    "lengthscales = jnp.logspace(-3, 1, 1, base=jnp.e)\n",
    "\n",
    "# Define Experiment Variables\n",
    "num_replicates = 2 # number of repeated experiments \n",
    "n = 1_000 # number of MCMC samples to be generated\n",
    "keys = [jax.random.key(1), jax.random.key(2)] # [key for MCMC sampling, key for preconditioner]\n",
    "\n",
    "def run_experiments(kernel, precons, keys, block_sizes, nuggets, lengthscales, m=m, num_replicates=num_replicates, n=n, wce_mul=1.01):\n",
    "    assert len(block_sizes) == len(nuggets)\n",
    "    \n",
    "    sample_key, precon_key = keys\n",
    "\n",
    "    results = []\n",
    "\n",
    "    for r in range(num_replicates):\n",
    "        sample_key, _ = jax.random.split(sample_key, 2)\n",
    "        dist_sample_r = dist.sample(sample_key, n)\n",
    "        for i in range(len(lengthscales)):\n",
    "            kernel_kwargs = {'lengthscale': lengthscales[i]}\n",
    "            pcg_experiment = PCG_Experiment(dist, dist_sample_r, kernel, precons)\n",
    "            pcg_experiment.set_reference_wce(**kernel_kwargs)\n",
    "\n",
    "            for j in range(len(block_sizes)):\n",
    "                precon_kwargs = {'block_size': block_sizes[i], 'nugget': nuggets[i], 'm': m}\n",
    "                experiment_out = pcg_experiment(precon_key, wce_mul=wce_mul, kernel_kwargs=kernel_kwargs, precon_kwargs=precon_kwargs)\n",
    "                result = {'out': experiment_out, 'kernel_kwargs':kernel_kwargs, 'precon_kwargs': precon_kwargs}\n",
    "                results.append(result)\n",
    "    \n",
    "    return results\n",
    "\n",
    "\n",
    "run_experiments(kernel, precons, keys, block_sizes, nuggets, lengthscales, m=m, num_replicates=2, n=n, wce_mul=1.1)\n",
    "\n",
    "\n",
    "\n"
   ]
  },
  {
   "cell_type": "code",
   "execution_count": null,
   "id": "1e02d5bf",
   "metadata": {},
   "outputs": [
    {
     "data": {
      "text/plain": [
       "(Array([[1., 0.],\n",
       "        [0., 1.]], dtype=float64),\n",
       " Array([[1., 0.],\n",
       "        [0., 1.],\n",
       "        [0., 0.],\n",
       "        [0., 0.]], dtype=float64),\n",
       " Array([[1., 0., 0., 0.],\n",
       "        [0., 1., 0., 0.]], dtype=float64))"
      ]
     },
     "execution_count": 3,
     "metadata": {},
     "output_type": "execute_result"
    }
   ],
   "source": [
    "NystromRandomWoodbury()(jnp.eye(10), )"
   ]
  },
  {
   "cell_type": "code",
   "execution_count": null,
   "id": "a27e6fbb",
   "metadata": {},
   "outputs": [],
   "source": []
  },
  {
   "cell_type": "code",
   "execution_count": null,
   "id": "11742ec7",
   "metadata": {},
   "outputs": [],
   "source": [
    "jnp.logspace()"
   ]
  }
 ],
 "metadata": {
  "kernelspec": {
   "display_name": ".jax",
   "language": "python",
   "name": "python3"
  },
  "language_info": {
   "codemirror_mode": {
    "name": "ipython",
    "version": 3
   },
   "file_extension": ".py",
   "mimetype": "text/x-python",
   "name": "python",
   "nbconvert_exporter": "python",
   "pygments_lexer": "ipython3",
   "version": "3.12.3"
  }
 },
 "nbformat": 4,
 "nbformat_minor": 5
}
